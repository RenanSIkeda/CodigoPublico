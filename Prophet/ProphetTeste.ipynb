{
 "cells": [
  {
   "cell_type": "code",
   "execution_count": 2,
   "metadata": {},
   "outputs": [],
   "source": [
    "# importing the dependencies\n",
    "import tensorflow.compat.v1 as tf\n",
    "tf.disable_v2_behavior()\n",
    "import numpy as np\n",
    "import matplotlib.pyplot as plt"
   ]
  },
  {
   "cell_type": "code",
   "execution_count": 3,
   "metadata": {},
   "outputs": [],
   "source": [
    "# Model Parameters\n",
    "learning_rate = 0.001\n",
    "training_epochs = 1000\n",
    "display_step = 1"
   ]
  },
  {
   "cell_type": "code",
   "execution_count": 4,
   "metadata": {},
   "outputs": [],
   "source": [
    "#Valores baseado em um EndID PASPIA0002\n",
    "# Training Data\n",
    "train_X = np.asarray([1.23,2.23,3.23,4.23,5.23,6.23,7.23,8.23,9.23,10.23,11.23])\n",
    "train_y = np.asarray([372,363,377,367,381,407,381,384,396,384,381])\n",
    "n_samples = train_X.shape[0]\n",
    "\n",
    "# Test Data\n",
    "test_X = np.asarray([12.23,1.24,2.24,3.24,4.24,5.24,6.24,7.24,8.24,9.24,10.24])\n",
    "test_y = np.asarray([417,370,393,382,377,388,384.99,386.99,406,339.99,388.99])"
   ]
  },
  {
   "cell_type": "code",
   "execution_count": 5,
   "metadata": {},
   "outputs": [],
   "source": [
    "# # Training Data\n",
    "# train_X = np.asarray([3.3,4.4,5.5,6.71,6.93,4.168,9.779,6.182,7.59,2.167,\n",
    "# \t\t\t\t\t\t7.042,10.791,5.313,7.997,5.654,9.27,3.1])\n",
    "# train_y = np.asarray([1.7,2.76,2.09,3.19,1.694,1.573,3.366,2.596,2.53,1.221,\n",
    "# \t\t\t\t\t\t2.827,3.465,1.65,2.904,2.42,2.94,1.3])\n",
    "# n_samples = train_X.shape[0]\n",
    "\n",
    "# # Test Data\n",
    "# test_X = np.asarray([6.83, 4.668, 8.9, 7.91, 5.7, 8.7, 3.1, 2.1])\n",
    "# test_y = np.asarray([1.84, 2.273, 3.2, 2.831, 2.92, 3.24, 1.35, 1.03])\n"
   ]
  },
  {
   "cell_type": "code",
   "execution_count": 6,
   "metadata": {},
   "outputs": [],
   "source": [
    "# Set placeholders for feature and target vectors\n",
    "X = tf.placeholder(tf.float32)\n",
    "y = tf.placeholder(tf.float32)"
   ]
  },
  {
   "cell_type": "code",
   "execution_count": 7,
   "metadata": {},
   "outputs": [],
   "source": [
    "# Set model weights and bias\n",
    "W = tf.Variable(np.random.randn(), name=\"weight\")\n",
    "b = tf.Variable(np.random.randn(), name=\"bias\")\n",
    "\n",
    "# Construct a linear model\n",
    "linear_model = W*X + b\n",
    "\n",
    "# Mean squared error\n",
    "cost = tf.reduce_sum(tf.square(linear_model - y)) / (2*n_samples)"
   ]
  },
  {
   "cell_type": "code",
   "execution_count": 8,
   "metadata": {},
   "outputs": [
    {
     "name": "stdout",
     "output_type": "stream",
     "text": [
      "WARNING:tensorflow:From C:\\Users\\t3745548\\AppData\\Local\\Temp\\ipykernel_13516\\54444139.py:2: The name tf.train.GradientDescentOptimizer is deprecated. Please use tf.compat.v1.train.GradientDescentOptimizer instead.\n",
      "\n"
     ]
    }
   ],
   "source": [
    "# Gradient descent\n",
    "optimizer = tf.compat.v1.train.GradientDescentOptimizer(learning_rate).minimize(cost)\n",
    "\n",
    "# Initializing the variables\n",
    "init = tf.global_variables_initializer()"
   ]
  },
  {
   "cell_type": "code",
   "execution_count": 9,
   "metadata": {},
   "outputs": [
    {
     "name": "stdout",
     "output_type": "stream",
     "text": [
      "Epoch:     1 \t Cost: 6.479e+04 \t W: 3.306 \t b:0.7635\n",
      "Epoch:     2 \t Cost: 5.982e+04 \t W: 5.535 \t b: 1.123\n",
      "Epoch:     3 \t Cost: 5.533e+04 \t W: 7.653 \t b: 1.469\n",
      "Epoch:     4 \t Cost: 5.128e+04 \t W: 9.665 \t b: 1.801\n",
      "Epoch:     5 \t Cost: 4.761e+04 \t W: 11.58 \t b:  2.12\n",
      "Epoch:     6 \t Cost:  4.43e+04 \t W: 13.39 \t b: 2.427\n",
      "Epoch:     7 \t Cost: 4.131e+04 \t W: 15.12 \t b: 2.722\n",
      "Epoch:     8 \t Cost: 3.861e+04 \t W: 16.76 \t b: 3.007\n",
      "Epoch:     9 \t Cost: 3.617e+04 \t W: 18.32 \t b:  3.28\n",
      "Epoch:    10 \t Cost: 3.397e+04 \t W:  19.8 \t b: 3.544\n",
      "Epoch:    11 \t Cost: 3.198e+04 \t W:  21.2 \t b: 3.799\n",
      "Epoch:    12 \t Cost: 3.018e+04 \t W: 22.54 \t b: 4.044\n",
      "Epoch:    13 \t Cost: 2.855e+04 \t W: 23.81 \t b: 4.281\n",
      "Epoch:    14 \t Cost: 2.708e+04 \t W: 25.01 \t b: 4.509\n",
      "Epoch:    15 \t Cost: 2.575e+04 \t W: 26.16 \t b:  4.73\n",
      "Epoch:    16 \t Cost: 2.455e+04 \t W: 27.25 \t b: 4.943\n",
      "Epoch:    17 \t Cost: 2.347e+04 \t W: 28.28 \t b:  5.15\n",
      "Epoch:    18 \t Cost: 2.249e+04 \t W: 29.26 \t b:  5.35\n",
      "Epoch:    19 \t Cost:  2.16e+04 \t W:  30.2 \t b: 5.543\n",
      "Epoch:    20 \t Cost:  2.08e+04 \t W: 31.08 \t b: 5.731\n",
      "Epoch:    21 \t Cost: 2.008e+04 \t W: 31.93 \t b: 5.913\n",
      "Epoch:    22 \t Cost: 1.943e+04 \t W: 32.73 \t b: 6.089\n",
      "Epoch:    23 \t Cost: 1.884e+04 \t W: 33.48 \t b:  6.26\n",
      "Epoch:    24 \t Cost:  1.83e+04 \t W: 34.21 \t b: 6.426\n",
      "Epoch:    25 \t Cost: 1.782e+04 \t W: 34.89 \t b: 6.588\n",
      "Epoch:    26 \t Cost: 1.738e+04 \t W: 35.54 \t b: 6.745\n",
      "Epoch:    27 \t Cost: 1.699e+04 \t W: 36.16 \t b: 6.898\n",
      "Epoch:    28 \t Cost: 1.663e+04 \t W: 36.75 \t b: 7.047\n",
      "Epoch:    29 \t Cost: 1.631e+04 \t W:  37.3 \t b: 7.193\n",
      "Epoch:    30 \t Cost: 1.601e+04 \t W: 37.83 \t b: 7.334\n",
      "Epoch:    31 \t Cost: 1.575e+04 \t W: 38.33 \t b: 7.472\n",
      "Epoch:    32 \t Cost: 1.551e+04 \t W: 38.81 \t b: 7.607\n",
      "Epoch:    33 \t Cost: 1.529e+04 \t W: 39.26 \t b: 7.739\n",
      "Epoch:    34 \t Cost: 1.509e+04 \t W: 39.69 \t b: 7.868\n",
      "Epoch:    35 \t Cost: 1.492e+04 \t W:  40.1 \t b: 7.994\n",
      "Epoch:    36 \t Cost: 1.475e+04 \t W: 40.49 \t b: 8.117\n",
      "Epoch:    37 \t Cost: 1.461e+04 \t W: 40.86 \t b: 8.238\n",
      "Epoch:    38 \t Cost: 1.448e+04 \t W: 41.21 \t b: 8.356\n",
      "Epoch:    39 \t Cost: 1.436e+04 \t W: 41.54 \t b: 8.472\n",
      "Epoch:    40 \t Cost: 1.425e+04 \t W: 41.85 \t b: 8.586\n",
      "Epoch:    41 \t Cost: 1.415e+04 \t W: 42.15 \t b: 8.698\n",
      "Epoch:    42 \t Cost: 1.406e+04 \t W: 42.43 \t b: 8.808\n",
      "Epoch:    43 \t Cost: 1.398e+04 \t W:  42.7 \t b: 8.916\n",
      "Epoch:    44 \t Cost:  1.39e+04 \t W: 42.96 \t b: 9.022\n",
      "Epoch:    45 \t Cost: 1.383e+04 \t W:  43.2 \t b: 9.127\n",
      "Epoch:    46 \t Cost: 1.377e+04 \t W: 43.43 \t b:  9.23\n",
      "Epoch:    47 \t Cost: 1.372e+04 \t W: 43.65 \t b: 9.331\n",
      "Epoch:    48 \t Cost: 1.366e+04 \t W: 43.85 \t b: 9.431\n",
      "Epoch:    49 \t Cost: 1.362e+04 \t W: 44.05 \t b:  9.53\n",
      "Epoch:    50 \t Cost: 1.357e+04 \t W: 44.23 \t b: 9.627\n",
      "Epoch:    51 \t Cost: 1.354e+04 \t W: 44.41 \t b: 9.723\n",
      "Epoch:    52 \t Cost:  1.35e+04 \t W: 44.57 \t b: 9.818\n",
      "Epoch:    53 \t Cost: 1.347e+04 \t W: 44.73 \t b: 9.911\n",
      "Epoch:    54 \t Cost: 1.344e+04 \t W: 44.88 \t b:  10.0\n",
      "Epoch:    55 \t Cost: 1.341e+04 \t W: 45.02 \t b:  10.1\n",
      "Epoch:    56 \t Cost: 1.338e+04 \t W: 45.16 \t b: 10.19\n",
      "Epoch:    57 \t Cost: 1.336e+04 \t W: 45.28 \t b: 10.28\n",
      "Epoch:    58 \t Cost: 1.334e+04 \t W: 45.41 \t b: 10.36\n",
      "Epoch:    59 \t Cost: 1.332e+04 \t W: 45.52 \t b: 10.45\n",
      "Epoch:    60 \t Cost:  1.33e+04 \t W: 45.63 \t b: 10.54\n",
      "Epoch:    61 \t Cost: 1.328e+04 \t W: 45.73 \t b: 10.63\n",
      "Epoch:    62 \t Cost: 1.326e+04 \t W: 45.82 \t b: 10.71\n",
      "Epoch:    63 \t Cost: 1.325e+04 \t W: 45.92 \t b:  10.8\n",
      "Epoch:    64 \t Cost: 1.323e+04 \t W:  46.0 \t b: 10.88\n",
      "Epoch:    65 \t Cost: 1.322e+04 \t W: 46.08 \t b: 10.96\n",
      "Epoch:    66 \t Cost: 1.321e+04 \t W: 46.16 \t b: 11.05\n",
      "Epoch:    67 \t Cost:  1.32e+04 \t W: 46.23 \t b: 11.13\n",
      "Epoch:    68 \t Cost: 1.318e+04 \t W:  46.3 \t b: 11.21\n",
      "Epoch:    69 \t Cost: 1.317e+04 \t W: 46.37 \t b: 11.29\n",
      "Epoch:    70 \t Cost: 1.316e+04 \t W: 46.43 \t b: 11.37\n",
      "Epoch:    71 \t Cost: 1.315e+04 \t W: 46.49 \t b: 11.46\n",
      "Epoch:    72 \t Cost: 1.315e+04 \t W: 46.54 \t b: 11.54\n",
      "Epoch:    73 \t Cost: 1.314e+04 \t W: 46.59 \t b: 11.62\n",
      "Epoch:    74 \t Cost: 1.313e+04 \t W: 46.64 \t b: 11.69\n",
      "Epoch:    75 \t Cost: 1.312e+04 \t W: 46.68 \t b: 11.77\n",
      "Epoch:    76 \t Cost: 1.311e+04 \t W: 46.73 \t b: 11.85\n",
      "Epoch:    77 \t Cost:  1.31e+04 \t W: 46.77 \t b: 11.93\n",
      "Epoch:    78 \t Cost:  1.31e+04 \t W:  46.8 \t b: 12.01\n",
      "Epoch:    79 \t Cost: 1.309e+04 \t W: 46.84 \t b: 12.09\n",
      "Epoch:    80 \t Cost: 1.308e+04 \t W: 46.87 \t b: 12.16\n",
      "Epoch:    81 \t Cost: 1.308e+04 \t W:  46.9 \t b: 12.24\n",
      "Epoch:    82 \t Cost: 1.307e+04 \t W: 46.93 \t b: 12.32\n",
      "Epoch:    83 \t Cost: 1.306e+04 \t W: 46.96 \t b: 12.39\n",
      "Epoch:    84 \t Cost: 1.306e+04 \t W: 46.99 \t b: 12.47\n",
      "Epoch:    85 \t Cost: 1.305e+04 \t W: 47.01 \t b: 12.55\n",
      "Epoch:    86 \t Cost: 1.304e+04 \t W: 47.03 \t b: 12.62\n",
      "Epoch:    87 \t Cost: 1.304e+04 \t W: 47.05 \t b:  12.7\n",
      "Epoch:    88 \t Cost: 1.303e+04 \t W: 47.07 \t b: 12.77\n",
      "Epoch:    89 \t Cost: 1.303e+04 \t W: 47.09 \t b: 12.85\n",
      "Epoch:    90 \t Cost: 1.302e+04 \t W:  47.1 \t b: 12.92\n",
      "Epoch:    91 \t Cost: 1.301e+04 \t W: 47.12 \t b:  13.0\n",
      "Epoch:    92 \t Cost: 1.301e+04 \t W: 47.13 \t b: 13.07\n",
      "Epoch:    93 \t Cost:   1.3e+04 \t W: 47.15 \t b: 13.15\n",
      "Epoch:    94 \t Cost:   1.3e+04 \t W: 47.16 \t b: 13.22\n",
      "Epoch:    95 \t Cost: 1.299e+04 \t W: 47.17 \t b: 13.29\n",
      "Epoch:    96 \t Cost: 1.299e+04 \t W: 47.18 \t b: 13.37\n",
      "Epoch:    97 \t Cost: 1.298e+04 \t W: 47.19 \t b: 13.44\n",
      "Epoch:    98 \t Cost: 1.297e+04 \t W: 47.19 \t b: 13.52\n",
      "Epoch:    99 \t Cost: 1.297e+04 \t W:  47.2 \t b: 13.59\n",
      "Epoch:   100 \t Cost: 1.296e+04 \t W: 47.21 \t b: 13.66\n",
      "Epoch:   101 \t Cost: 1.296e+04 \t W: 47.21 \t b: 13.74\n",
      "Epoch:   102 \t Cost: 1.295e+04 \t W: 47.22 \t b: 13.81\n",
      "Epoch:   103 \t Cost: 1.295e+04 \t W: 47.22 \t b: 13.88\n",
      "Epoch:   104 \t Cost: 1.294e+04 \t W: 47.22 \t b: 13.96\n",
      "Epoch:   105 \t Cost: 1.294e+04 \t W: 47.23 \t b: 14.03\n",
      "Epoch:   106 \t Cost: 1.293e+04 \t W: 47.23 \t b:  14.1\n",
      "Epoch:   107 \t Cost: 1.293e+04 \t W: 47.23 \t b: 14.18\n",
      "Epoch:   108 \t Cost: 1.292e+04 \t W: 47.23 \t b: 14.25\n",
      "Epoch:   109 \t Cost: 1.292e+04 \t W: 47.23 \t b: 14.32\n",
      "Epoch:   110 \t Cost: 1.291e+04 \t W: 47.23 \t b: 14.39\n",
      "Epoch:   111 \t Cost:  1.29e+04 \t W: 47.23 \t b: 14.47\n",
      "Epoch:   112 \t Cost:  1.29e+04 \t W: 47.23 \t b: 14.54\n",
      "Epoch:   113 \t Cost: 1.289e+04 \t W: 47.23 \t b: 14.61\n",
      "Epoch:   114 \t Cost: 1.289e+04 \t W: 47.23 \t b: 14.68\n",
      "Epoch:   115 \t Cost: 1.288e+04 \t W: 47.23 \t b: 14.76\n",
      "Epoch:   116 \t Cost: 1.288e+04 \t W: 47.22 \t b: 14.83\n",
      "Epoch:   117 \t Cost: 1.287e+04 \t W: 47.22 \t b:  14.9\n",
      "Epoch:   118 \t Cost: 1.287e+04 \t W: 47.22 \t b: 14.97\n",
      "Epoch:   119 \t Cost: 1.286e+04 \t W: 47.21 \t b: 15.04\n",
      "Epoch:   120 \t Cost: 1.286e+04 \t W: 47.21 \t b: 15.12\n",
      "Epoch:   121 \t Cost: 1.285e+04 \t W: 47.21 \t b: 15.19\n",
      "Epoch:   122 \t Cost: 1.285e+04 \t W:  47.2 \t b: 15.26\n",
      "Epoch:   123 \t Cost: 1.284e+04 \t W:  47.2 \t b: 15.33\n",
      "Epoch:   124 \t Cost: 1.284e+04 \t W: 47.19 \t b:  15.4\n",
      "Epoch:   125 \t Cost: 1.283e+04 \t W: 47.19 \t b: 15.48\n",
      "Epoch:   126 \t Cost: 1.283e+04 \t W: 47.18 \t b: 15.55\n",
      "Epoch:   127 \t Cost: 1.282e+04 \t W: 47.18 \t b: 15.62\n",
      "Epoch:   128 \t Cost: 1.282e+04 \t W: 47.17 \t b: 15.69\n",
      "Epoch:   129 \t Cost: 1.281e+04 \t W: 47.17 \t b: 15.76\n",
      "Epoch:   130 \t Cost: 1.281e+04 \t W: 47.16 \t b: 15.83\n",
      "Epoch:   131 \t Cost:  1.28e+04 \t W: 47.16 \t b: 15.91\n",
      "Epoch:   132 \t Cost:  1.28e+04 \t W: 47.15 \t b: 15.98\n",
      "Epoch:   133 \t Cost: 1.279e+04 \t W: 47.14 \t b: 16.05\n",
      "Epoch:   134 \t Cost: 1.279e+04 \t W: 47.14 \t b: 16.12\n",
      "Epoch:   135 \t Cost: 1.278e+04 \t W: 47.13 \t b: 16.19\n",
      "Epoch:   136 \t Cost: 1.278e+04 \t W: 47.12 \t b: 16.26\n",
      "Epoch:   137 \t Cost: 1.277e+04 \t W: 47.12 \t b: 16.33\n",
      "Epoch:   138 \t Cost: 1.276e+04 \t W: 47.11 \t b:  16.4\n",
      "Epoch:   139 \t Cost: 1.276e+04 \t W:  47.1 \t b: 16.48\n",
      "Epoch:   140 \t Cost: 1.275e+04 \t W:  47.1 \t b: 16.55\n",
      "Epoch:   141 \t Cost: 1.275e+04 \t W: 47.09 \t b: 16.62\n",
      "Epoch:   142 \t Cost: 1.274e+04 \t W: 47.08 \t b: 16.69\n",
      "Epoch:   143 \t Cost: 1.274e+04 \t W: 47.07 \t b: 16.76\n",
      "Epoch:   144 \t Cost: 1.273e+04 \t W: 47.07 \t b: 16.83\n",
      "Epoch:   145 \t Cost: 1.273e+04 \t W: 47.06 \t b:  16.9\n",
      "Epoch:   146 \t Cost: 1.272e+04 \t W: 47.05 \t b: 16.97\n",
      "Epoch:   147 \t Cost: 1.272e+04 \t W: 47.04 \t b: 17.05\n",
      "Epoch:   148 \t Cost: 1.271e+04 \t W: 47.04 \t b: 17.12\n",
      "Epoch:   149 \t Cost: 1.271e+04 \t W: 47.03 \t b: 17.19\n",
      "Epoch:   150 \t Cost:  1.27e+04 \t W: 47.02 \t b: 17.26\n",
      "Epoch:   151 \t Cost:  1.27e+04 \t W: 47.01 \t b: 17.33\n",
      "Epoch:   152 \t Cost: 1.269e+04 \t W:  47.0 \t b:  17.4\n",
      "Epoch:   153 \t Cost: 1.269e+04 \t W:  47.0 \t b: 17.47\n",
      "Epoch:   154 \t Cost: 1.268e+04 \t W: 46.99 \t b: 17.54\n",
      "Epoch:   155 \t Cost: 1.268e+04 \t W: 46.98 \t b: 17.61\n",
      "Epoch:   156 \t Cost: 1.267e+04 \t W: 46.97 \t b: 17.68\n",
      "Epoch:   157 \t Cost: 1.267e+04 \t W: 46.96 \t b: 17.76\n",
      "Epoch:   158 \t Cost: 1.266e+04 \t W: 46.96 \t b: 17.83\n",
      "Epoch:   159 \t Cost: 1.266e+04 \t W: 46.95 \t b:  17.9\n",
      "Epoch:   160 \t Cost: 1.265e+04 \t W: 46.94 \t b: 17.97\n",
      "Epoch:   161 \t Cost: 1.265e+04 \t W: 46.93 \t b: 18.04\n",
      "Epoch:   162 \t Cost: 1.264e+04 \t W: 46.92 \t b: 18.11\n",
      "Epoch:   163 \t Cost: 1.264e+04 \t W: 46.91 \t b: 18.18\n",
      "Epoch:   164 \t Cost: 1.263e+04 \t W:  46.9 \t b: 18.25\n",
      "Epoch:   165 \t Cost: 1.263e+04 \t W:  46.9 \t b: 18.32\n",
      "Epoch:   166 \t Cost: 1.262e+04 \t W: 46.89 \t b: 18.39\n",
      "Epoch:   167 \t Cost: 1.262e+04 \t W: 46.88 \t b: 18.46\n",
      "Epoch:   168 \t Cost: 1.261e+04 \t W: 46.87 \t b: 18.53\n",
      "Epoch:   169 \t Cost: 1.261e+04 \t W: 46.86 \t b:  18.6\n",
      "Epoch:   170 \t Cost:  1.26e+04 \t W: 46.85 \t b: 18.67\n",
      "Epoch:   171 \t Cost:  1.26e+04 \t W: 46.84 \t b: 18.75\n",
      "Epoch:   172 \t Cost: 1.259e+04 \t W: 46.84 \t b: 18.82\n",
      "Epoch:   173 \t Cost: 1.259e+04 \t W: 46.83 \t b: 18.89\n",
      "Epoch:   174 \t Cost: 1.258e+04 \t W: 46.82 \t b: 18.96\n",
      "Epoch:   175 \t Cost: 1.258e+04 \t W: 46.81 \t b: 19.03\n",
      "Epoch:   176 \t Cost: 1.257e+04 \t W:  46.8 \t b:  19.1\n",
      "Epoch:   177 \t Cost: 1.257e+04 \t W: 46.79 \t b: 19.17\n",
      "Epoch:   178 \t Cost: 1.256e+04 \t W: 46.78 \t b: 19.24\n",
      "Epoch:   179 \t Cost: 1.256e+04 \t W: 46.78 \t b: 19.31\n",
      "Epoch:   180 \t Cost: 1.255e+04 \t W: 46.77 \t b: 19.38\n",
      "Epoch:   181 \t Cost: 1.255e+04 \t W: 46.76 \t b: 19.45\n",
      "Epoch:   182 \t Cost: 1.254e+04 \t W: 46.75 \t b: 19.52\n",
      "Epoch:   183 \t Cost: 1.254e+04 \t W: 46.74 \t b: 19.59\n",
      "Epoch:   184 \t Cost: 1.253e+04 \t W: 46.73 \t b: 19.66\n",
      "Epoch:   185 \t Cost: 1.253e+04 \t W: 46.72 \t b: 19.73\n",
      "Epoch:   186 \t Cost: 1.252e+04 \t W: 46.71 \t b:  19.8\n",
      "Epoch:   187 \t Cost: 1.252e+04 \t W:  46.7 \t b: 19.87\n",
      "Epoch:   188 \t Cost: 1.251e+04 \t W:  46.7 \t b: 19.94\n",
      "Epoch:   189 \t Cost: 1.251e+04 \t W: 46.69 \t b: 20.01\n",
      "Epoch:   190 \t Cost:  1.25e+04 \t W: 46.68 \t b: 20.08\n",
      "Epoch:   191 \t Cost:  1.25e+04 \t W: 46.67 \t b: 20.15\n",
      "Epoch:   192 \t Cost: 1.249e+04 \t W: 46.66 \t b: 20.22\n",
      "Epoch:   193 \t Cost: 1.249e+04 \t W: 46.65 \t b: 20.29\n",
      "Epoch:   194 \t Cost: 1.248e+04 \t W: 46.64 \t b: 20.36\n",
      "Epoch:   195 \t Cost: 1.248e+04 \t W: 46.63 \t b: 20.44\n",
      "Epoch:   196 \t Cost: 1.247e+04 \t W: 46.62 \t b: 20.51\n",
      "Epoch:   197 \t Cost: 1.247e+04 \t W: 46.62 \t b: 20.58\n",
      "Epoch:   198 \t Cost: 1.246e+04 \t W: 46.61 \t b: 20.65\n",
      "Epoch:   199 \t Cost: 1.246e+04 \t W:  46.6 \t b: 20.72\n",
      "Epoch:   200 \t Cost: 1.245e+04 \t W: 46.59 \t b: 20.79\n",
      "Epoch:   201 \t Cost: 1.245e+04 \t W: 46.58 \t b: 20.86\n",
      "Epoch:   202 \t Cost: 1.244e+04 \t W: 46.57 \t b: 20.93\n",
      "Epoch:   203 \t Cost: 1.244e+04 \t W: 46.56 \t b:  21.0\n",
      "Epoch:   204 \t Cost: 1.243e+04 \t W: 46.55 \t b: 21.07\n",
      "Epoch:   205 \t Cost: 1.243e+04 \t W: 46.54 \t b: 21.14\n",
      "Epoch:   206 \t Cost: 1.242e+04 \t W: 46.54 \t b: 21.21\n",
      "Epoch:   207 \t Cost: 1.242e+04 \t W: 46.53 \t b: 21.28\n",
      "Epoch:   208 \t Cost: 1.241e+04 \t W: 46.52 \t b: 21.35\n",
      "Epoch:   209 \t Cost: 1.241e+04 \t W: 46.51 \t b: 21.42\n",
      "Epoch:   210 \t Cost:  1.24e+04 \t W:  46.5 \t b: 21.49\n",
      "Epoch:   211 \t Cost:  1.24e+04 \t W: 46.49 \t b: 21.56\n",
      "Epoch:   212 \t Cost: 1.239e+04 \t W: 46.48 \t b: 21.63\n",
      "Epoch:   213 \t Cost: 1.239e+04 \t W: 46.47 \t b:  21.7\n",
      "Epoch:   214 \t Cost: 1.238e+04 \t W: 46.46 \t b: 21.77\n",
      "Epoch:   215 \t Cost: 1.238e+04 \t W: 46.46 \t b: 21.84\n",
      "Epoch:   216 \t Cost: 1.237e+04 \t W: 46.45 \t b: 21.91\n",
      "Epoch:   217 \t Cost: 1.237e+04 \t W: 46.44 \t b: 21.98\n",
      "Epoch:   218 \t Cost: 1.236e+04 \t W: 46.43 \t b: 22.05\n",
      "Epoch:   219 \t Cost: 1.236e+04 \t W: 46.42 \t b: 22.12\n",
      "Epoch:   220 \t Cost: 1.235e+04 \t W: 46.41 \t b: 22.19\n",
      "Epoch:   221 \t Cost: 1.235e+04 \t W:  46.4 \t b: 22.26\n",
      "Epoch:   222 \t Cost: 1.234e+04 \t W: 46.39 \t b: 22.33\n",
      "Epoch:   223 \t Cost: 1.234e+04 \t W: 46.38 \t b:  22.4\n",
      "Epoch:   224 \t Cost: 1.233e+04 \t W: 46.38 \t b: 22.47\n",
      "Epoch:   225 \t Cost: 1.233e+04 \t W: 46.37 \t b: 22.54\n",
      "Epoch:   226 \t Cost: 1.232e+04 \t W: 46.36 \t b: 22.61\n",
      "Epoch:   227 \t Cost: 1.232e+04 \t W: 46.35 \t b: 22.67\n",
      "Epoch:   228 \t Cost: 1.231e+04 \t W: 46.34 \t b: 22.74\n",
      "Epoch:   229 \t Cost: 1.231e+04 \t W: 46.33 \t b: 22.81\n",
      "Epoch:   230 \t Cost:  1.23e+04 \t W: 46.32 \t b: 22.88\n",
      "Epoch:   231 \t Cost:  1.23e+04 \t W: 46.31 \t b: 22.95\n",
      "Epoch:   232 \t Cost: 1.229e+04 \t W:  46.3 \t b: 23.02\n",
      "Epoch:   233 \t Cost: 1.229e+04 \t W:  46.3 \t b: 23.09\n",
      "Epoch:   234 \t Cost: 1.228e+04 \t W: 46.29 \t b: 23.16\n",
      "Epoch:   235 \t Cost: 1.228e+04 \t W: 46.28 \t b: 23.23\n",
      "Epoch:   236 \t Cost: 1.227e+04 \t W: 46.27 \t b:  23.3\n",
      "Epoch:   237 \t Cost: 1.227e+04 \t W: 46.26 \t b: 23.37\n",
      "Epoch:   238 \t Cost: 1.226e+04 \t W: 46.25 \t b: 23.44\n",
      "Epoch:   239 \t Cost: 1.226e+04 \t W: 46.24 \t b: 23.51\n",
      "Epoch:   240 \t Cost: 1.225e+04 \t W: 46.23 \t b: 23.58\n",
      "Epoch:   241 \t Cost: 1.225e+04 \t W: 46.22 \t b: 23.65\n",
      "Epoch:   242 \t Cost: 1.224e+04 \t W: 46.22 \t b: 23.72\n",
      "Epoch:   243 \t Cost: 1.224e+04 \t W: 46.21 \t b: 23.79\n",
      "Epoch:   244 \t Cost: 1.223e+04 \t W:  46.2 \t b: 23.86\n",
      "Epoch:   245 \t Cost: 1.223e+04 \t W: 46.19 \t b: 23.93\n",
      "Epoch:   246 \t Cost: 1.222e+04 \t W: 46.18 \t b:  24.0\n",
      "Epoch:   247 \t Cost: 1.222e+04 \t W: 46.17 \t b: 24.07\n",
      "Epoch:   248 \t Cost: 1.221e+04 \t W: 46.16 \t b: 24.14\n",
      "Epoch:   249 \t Cost: 1.221e+04 \t W: 46.15 \t b: 24.21\n",
      "Epoch:   250 \t Cost:  1.22e+04 \t W: 46.14 \t b: 24.28\n",
      "Epoch:   251 \t Cost:  1.22e+04 \t W: 46.13 \t b: 24.35\n",
      "Epoch:   252 \t Cost: 1.219e+04 \t W: 46.13 \t b: 24.41\n",
      "Epoch:   253 \t Cost: 1.219e+04 \t W: 46.12 \t b: 24.48\n",
      "Epoch:   254 \t Cost: 1.218e+04 \t W: 46.11 \t b: 24.55\n",
      "Epoch:   255 \t Cost: 1.218e+04 \t W:  46.1 \t b: 24.62\n",
      "Epoch:   256 \t Cost: 1.217e+04 \t W: 46.09 \t b: 24.69\n",
      "Epoch:   257 \t Cost: 1.217e+04 \t W: 46.08 \t b: 24.76\n",
      "Epoch:   258 \t Cost: 1.216e+04 \t W: 46.07 \t b: 24.83\n",
      "Epoch:   259 \t Cost: 1.216e+04 \t W: 46.06 \t b:  24.9\n",
      "Epoch:   260 \t Cost: 1.215e+04 \t W: 46.06 \t b: 24.97\n",
      "Epoch:   261 \t Cost: 1.215e+04 \t W: 46.05 \t b: 25.04\n",
      "Epoch:   262 \t Cost: 1.214e+04 \t W: 46.04 \t b: 25.11\n",
      "Epoch:   263 \t Cost: 1.214e+04 \t W: 46.03 \t b: 25.18\n",
      "Epoch:   264 \t Cost: 1.214e+04 \t W: 46.02 \t b: 25.25\n",
      "Epoch:   265 \t Cost: 1.213e+04 \t W: 46.01 \t b: 25.32\n",
      "Epoch:   266 \t Cost: 1.213e+04 \t W:  46.0 \t b: 25.38\n",
      "Epoch:   267 \t Cost: 1.212e+04 \t W: 45.99 \t b: 25.45\n",
      "Epoch:   268 \t Cost: 1.212e+04 \t W: 45.98 \t b: 25.52\n",
      "Epoch:   269 \t Cost: 1.211e+04 \t W: 45.98 \t b: 25.59\n",
      "Epoch:   270 \t Cost: 1.211e+04 \t W: 45.97 \t b: 25.66\n",
      "Epoch:   271 \t Cost:  1.21e+04 \t W: 45.96 \t b: 25.73\n",
      "Epoch:   272 \t Cost:  1.21e+04 \t W: 45.95 \t b:  25.8\n",
      "Epoch:   273 \t Cost: 1.209e+04 \t W: 45.94 \t b: 25.87\n",
      "Epoch:   274 \t Cost: 1.209e+04 \t W: 45.93 \t b: 25.94\n",
      "Epoch:   275 \t Cost: 1.208e+04 \t W: 45.92 \t b: 26.01\n",
      "Epoch:   276 \t Cost: 1.208e+04 \t W: 45.91 \t b: 26.08\n",
      "Epoch:   277 \t Cost: 1.207e+04 \t W:  45.9 \t b: 26.15\n",
      "Epoch:   278 \t Cost: 1.207e+04 \t W:  45.9 \t b: 26.21\n",
      "Epoch:   279 \t Cost: 1.206e+04 \t W: 45.89 \t b: 26.28\n",
      "Epoch:   280 \t Cost: 1.206e+04 \t W: 45.88 \t b: 26.35\n",
      "Epoch:   281 \t Cost: 1.205e+04 \t W: 45.87 \t b: 26.42\n",
      "Epoch:   282 \t Cost: 1.205e+04 \t W: 45.86 \t b: 26.49\n",
      "Epoch:   283 \t Cost: 1.204e+04 \t W: 45.85 \t b: 26.56\n",
      "Epoch:   284 \t Cost: 1.204e+04 \t W: 45.84 \t b: 26.63\n",
      "Epoch:   285 \t Cost: 1.203e+04 \t W: 45.83 \t b:  26.7\n",
      "Epoch:   286 \t Cost: 1.203e+04 \t W: 45.82 \t b: 26.77\n",
      "Epoch:   287 \t Cost: 1.202e+04 \t W: 45.82 \t b: 26.84\n",
      "Epoch:   288 \t Cost: 1.202e+04 \t W: 45.81 \t b:  26.9\n",
      "Epoch:   289 \t Cost: 1.201e+04 \t W:  45.8 \t b: 26.97\n",
      "Epoch:   290 \t Cost: 1.201e+04 \t W: 45.79 \t b: 27.04\n",
      "Epoch:   291 \t Cost:   1.2e+04 \t W: 45.78 \t b: 27.11\n",
      "Epoch:   292 \t Cost:   1.2e+04 \t W: 45.77 \t b: 27.18\n",
      "Epoch:   293 \t Cost: 1.199e+04 \t W: 45.76 \t b: 27.25\n",
      "Epoch:   294 \t Cost: 1.199e+04 \t W: 45.75 \t b: 27.32\n",
      "Epoch:   295 \t Cost: 1.198e+04 \t W: 45.75 \t b: 27.39\n",
      "Epoch:   296 \t Cost: 1.198e+04 \t W: 45.74 \t b: 27.45\n",
      "Epoch:   297 \t Cost: 1.198e+04 \t W: 45.73 \t b: 27.52\n",
      "Epoch:   298 \t Cost: 1.197e+04 \t W: 45.72 \t b: 27.59\n",
      "Epoch:   299 \t Cost: 1.197e+04 \t W: 45.71 \t b: 27.66\n",
      "Epoch:   300 \t Cost: 1.196e+04 \t W:  45.7 \t b: 27.73\n",
      "Epoch:   301 \t Cost: 1.196e+04 \t W: 45.69 \t b:  27.8\n",
      "Epoch:   302 \t Cost: 1.195e+04 \t W: 45.68 \t b: 27.87\n",
      "Epoch:   303 \t Cost: 1.195e+04 \t W: 45.67 \t b: 27.94\n",
      "Epoch:   304 \t Cost: 1.194e+04 \t W: 45.67 \t b:  28.0\n",
      "Epoch:   305 \t Cost: 1.194e+04 \t W: 45.66 \t b: 28.07\n",
      "Epoch:   306 \t Cost: 1.193e+04 \t W: 45.65 \t b: 28.14\n",
      "Epoch:   307 \t Cost: 1.193e+04 \t W: 45.64 \t b: 28.21\n",
      "Epoch:   308 \t Cost: 1.192e+04 \t W: 45.63 \t b: 28.28\n",
      "Epoch:   309 \t Cost: 1.192e+04 \t W: 45.62 \t b: 28.35\n",
      "Epoch:   310 \t Cost: 1.191e+04 \t W: 45.61 \t b: 28.42\n",
      "Epoch:   311 \t Cost: 1.191e+04 \t W:  45.6 \t b: 28.49\n",
      "Epoch:   312 \t Cost:  1.19e+04 \t W:  45.6 \t b: 28.55\n",
      "Epoch:   313 \t Cost:  1.19e+04 \t W: 45.59 \t b: 28.62\n",
      "Epoch:   314 \t Cost: 1.189e+04 \t W: 45.58 \t b: 28.69\n",
      "Epoch:   315 \t Cost: 1.189e+04 \t W: 45.57 \t b: 28.76\n",
      "Epoch:   316 \t Cost: 1.188e+04 \t W: 45.56 \t b: 28.83\n",
      "Epoch:   317 \t Cost: 1.188e+04 \t W: 45.55 \t b:  28.9\n",
      "Epoch:   318 \t Cost: 1.187e+04 \t W: 45.54 \t b: 28.97\n",
      "Epoch:   319 \t Cost: 1.187e+04 \t W: 45.53 \t b: 29.03\n",
      "Epoch:   320 \t Cost: 1.187e+04 \t W: 45.53 \t b:  29.1\n",
      "Epoch:   321 \t Cost: 1.186e+04 \t W: 45.52 \t b: 29.17\n",
      "Epoch:   322 \t Cost: 1.186e+04 \t W: 45.51 \t b: 29.24\n",
      "Epoch:   323 \t Cost: 1.185e+04 \t W:  45.5 \t b: 29.31\n",
      "Epoch:   324 \t Cost: 1.185e+04 \t W: 45.49 \t b: 29.38\n",
      "Epoch:   325 \t Cost: 1.184e+04 \t W: 45.48 \t b: 29.44\n",
      "Epoch:   326 \t Cost: 1.184e+04 \t W: 45.47 \t b: 29.51\n",
      "Epoch:   327 \t Cost: 1.183e+04 \t W: 45.46 \t b: 29.58\n",
      "Epoch:   328 \t Cost: 1.183e+04 \t W: 45.46 \t b: 29.65\n",
      "Epoch:   329 \t Cost: 1.182e+04 \t W: 45.45 \t b: 29.72\n",
      "Epoch:   330 \t Cost: 1.182e+04 \t W: 45.44 \t b: 29.79\n",
      "Epoch:   331 \t Cost: 1.181e+04 \t W: 45.43 \t b: 29.85\n",
      "Epoch:   332 \t Cost: 1.181e+04 \t W: 45.42 \t b: 29.92\n",
      "Epoch:   333 \t Cost:  1.18e+04 \t W: 45.41 \t b: 29.99\n",
      "Epoch:   334 \t Cost:  1.18e+04 \t W:  45.4 \t b: 30.06\n",
      "Epoch:   335 \t Cost: 1.179e+04 \t W: 45.39 \t b: 30.13\n",
      "Epoch:   336 \t Cost: 1.179e+04 \t W: 45.39 \t b:  30.2\n",
      "Epoch:   337 \t Cost: 1.178e+04 \t W: 45.38 \t b: 30.26\n",
      "Epoch:   338 \t Cost: 1.178e+04 \t W: 45.37 \t b: 30.33\n",
      "Epoch:   339 \t Cost: 1.178e+04 \t W: 45.36 \t b:  30.4\n",
      "Epoch:   340 \t Cost: 1.177e+04 \t W: 45.35 \t b: 30.47\n",
      "Epoch:   341 \t Cost: 1.177e+04 \t W: 45.34 \t b: 30.54\n",
      "Epoch:   342 \t Cost: 1.176e+04 \t W: 45.33 \t b:  30.6\n",
      "Epoch:   343 \t Cost: 1.176e+04 \t W: 45.32 \t b: 30.67\n",
      "Epoch:   344 \t Cost: 1.175e+04 \t W: 45.32 \t b: 30.74\n",
      "Epoch:   345 \t Cost: 1.175e+04 \t W: 45.31 \t b: 30.81\n",
      "Epoch:   346 \t Cost: 1.174e+04 \t W:  45.3 \t b: 30.88\n",
      "Epoch:   347 \t Cost: 1.174e+04 \t W: 45.29 \t b: 30.95\n",
      "Epoch:   348 \t Cost: 1.173e+04 \t W: 45.28 \t b: 31.01\n",
      "Epoch:   349 \t Cost: 1.173e+04 \t W: 45.27 \t b: 31.08\n",
      "Epoch:   350 \t Cost: 1.172e+04 \t W: 45.26 \t b: 31.15\n",
      "Epoch:   351 \t Cost: 1.172e+04 \t W: 45.25 \t b: 31.22\n",
      "Epoch:   352 \t Cost: 1.171e+04 \t W: 45.25 \t b: 31.29\n",
      "Epoch:   353 \t Cost: 1.171e+04 \t W: 45.24 \t b: 31.35\n",
      "Epoch:   354 \t Cost:  1.17e+04 \t W: 45.23 \t b: 31.42\n",
      "Epoch:   355 \t Cost:  1.17e+04 \t W: 45.22 \t b: 31.49\n",
      "Epoch:   356 \t Cost:  1.17e+04 \t W: 45.21 \t b: 31.56\n",
      "Epoch:   357 \t Cost: 1.169e+04 \t W:  45.2 \t b: 31.63\n",
      "Epoch:   358 \t Cost: 1.169e+04 \t W: 45.19 \t b: 31.69\n",
      "Epoch:   359 \t Cost: 1.168e+04 \t W: 45.18 \t b: 31.76\n",
      "Epoch:   360 \t Cost: 1.168e+04 \t W: 45.18 \t b: 31.83\n",
      "Epoch:   361 \t Cost: 1.167e+04 \t W: 45.17 \t b:  31.9\n",
      "Epoch:   362 \t Cost: 1.167e+04 \t W: 45.16 \t b: 31.97\n",
      "Epoch:   363 \t Cost: 1.166e+04 \t W: 45.15 \t b: 32.03\n",
      "Epoch:   364 \t Cost: 1.166e+04 \t W: 45.14 \t b:  32.1\n",
      "Epoch:   365 \t Cost: 1.165e+04 \t W: 45.13 \t b: 32.17\n",
      "Epoch:   366 \t Cost: 1.165e+04 \t W: 45.12 \t b: 32.24\n",
      "Epoch:   367 \t Cost: 1.164e+04 \t W: 45.12 \t b:  32.3\n",
      "Epoch:   368 \t Cost: 1.164e+04 \t W: 45.11 \t b: 32.37\n",
      "Epoch:   369 \t Cost: 1.163e+04 \t W:  45.1 \t b: 32.44\n",
      "Epoch:   370 \t Cost: 1.163e+04 \t W: 45.09 \t b: 32.51\n",
      "Epoch:   371 \t Cost: 1.162e+04 \t W: 45.08 \t b: 32.58\n",
      "Epoch:   372 \t Cost: 1.162e+04 \t W: 45.07 \t b: 32.64\n",
      "Epoch:   373 \t Cost: 1.162e+04 \t W: 45.06 \t b: 32.71\n",
      "Epoch:   374 \t Cost: 1.161e+04 \t W: 45.05 \t b: 32.78\n",
      "Epoch:   375 \t Cost: 1.161e+04 \t W: 45.05 \t b: 32.85\n",
      "Epoch:   376 \t Cost:  1.16e+04 \t W: 45.04 \t b: 32.91\n",
      "Epoch:   377 \t Cost:  1.16e+04 \t W: 45.03 \t b: 32.98\n",
      "Epoch:   378 \t Cost: 1.159e+04 \t W: 45.02 \t b: 33.05\n",
      "Epoch:   379 \t Cost: 1.159e+04 \t W: 45.01 \t b: 33.12\n",
      "Epoch:   380 \t Cost: 1.158e+04 \t W:  45.0 \t b: 33.19\n",
      "Epoch:   381 \t Cost: 1.158e+04 \t W: 44.99 \t b: 33.25\n",
      "Epoch:   382 \t Cost: 1.157e+04 \t W: 44.98 \t b: 33.32\n",
      "Epoch:   383 \t Cost: 1.157e+04 \t W: 44.98 \t b: 33.39\n",
      "Epoch:   384 \t Cost: 1.156e+04 \t W: 44.97 \t b: 33.46\n",
      "Epoch:   385 \t Cost: 1.156e+04 \t W: 44.96 \t b: 33.52\n",
      "Epoch:   386 \t Cost: 1.155e+04 \t W: 44.95 \t b: 33.59\n",
      "Epoch:   387 \t Cost: 1.155e+04 \t W: 44.94 \t b: 33.66\n",
      "Epoch:   388 \t Cost: 1.155e+04 \t W: 44.93 \t b: 33.73\n",
      "Epoch:   389 \t Cost: 1.154e+04 \t W: 44.92 \t b: 33.79\n",
      "Epoch:   390 \t Cost: 1.154e+04 \t W: 44.92 \t b: 33.86\n",
      "Epoch:   391 \t Cost: 1.153e+04 \t W: 44.91 \t b: 33.93\n",
      "Epoch:   392 \t Cost: 1.153e+04 \t W:  44.9 \t b:  34.0\n",
      "Epoch:   393 \t Cost: 1.152e+04 \t W: 44.89 \t b: 34.06\n",
      "Epoch:   394 \t Cost: 1.152e+04 \t W: 44.88 \t b: 34.13\n",
      "Epoch:   395 \t Cost: 1.151e+04 \t W: 44.87 \t b:  34.2\n",
      "Epoch:   396 \t Cost: 1.151e+04 \t W: 44.86 \t b: 34.27\n",
      "Epoch:   397 \t Cost:  1.15e+04 \t W: 44.86 \t b: 34.33\n",
      "Epoch:   398 \t Cost:  1.15e+04 \t W: 44.85 \t b:  34.4\n",
      "Epoch:   399 \t Cost: 1.149e+04 \t W: 44.84 \t b: 34.47\n",
      "Epoch:   400 \t Cost: 1.149e+04 \t W: 44.83 \t b: 34.54\n",
      "Epoch:   401 \t Cost: 1.149e+04 \t W: 44.82 \t b:  34.6\n",
      "Epoch:   402 \t Cost: 1.148e+04 \t W: 44.81 \t b: 34.67\n",
      "Epoch:   403 \t Cost: 1.148e+04 \t W:  44.8 \t b: 34.74\n",
      "Epoch:   404 \t Cost: 1.147e+04 \t W: 44.79 \t b:  34.8\n",
      "Epoch:   405 \t Cost: 1.147e+04 \t W: 44.79 \t b: 34.87\n",
      "Epoch:   406 \t Cost: 1.146e+04 \t W: 44.78 \t b: 34.94\n",
      "Epoch:   407 \t Cost: 1.146e+04 \t W: 44.77 \t b: 35.01\n",
      "Epoch:   408 \t Cost: 1.145e+04 \t W: 44.76 \t b: 35.07\n",
      "Epoch:   409 \t Cost: 1.145e+04 \t W: 44.75 \t b: 35.14\n",
      "Epoch:   410 \t Cost: 1.144e+04 \t W: 44.74 \t b: 35.21\n",
      "Epoch:   411 \t Cost: 1.144e+04 \t W: 44.73 \t b: 35.28\n",
      "Epoch:   412 \t Cost: 1.144e+04 \t W: 44.73 \t b: 35.34\n",
      "Epoch:   413 \t Cost: 1.143e+04 \t W: 44.72 \t b: 35.41\n",
      "Epoch:   414 \t Cost: 1.143e+04 \t W: 44.71 \t b: 35.48\n",
      "Epoch:   415 \t Cost: 1.142e+04 \t W:  44.7 \t b: 35.54\n",
      "Epoch:   416 \t Cost: 1.142e+04 \t W: 44.69 \t b: 35.61\n",
      "Epoch:   417 \t Cost: 1.141e+04 \t W: 44.68 \t b: 35.68\n",
      "Epoch:   418 \t Cost: 1.141e+04 \t W: 44.67 \t b: 35.75\n",
      "Epoch:   419 \t Cost:  1.14e+04 \t W: 44.67 \t b: 35.81\n",
      "Epoch:   420 \t Cost:  1.14e+04 \t W: 44.66 \t b: 35.88\n",
      "Epoch:   421 \t Cost: 1.139e+04 \t W: 44.65 \t b: 35.95\n",
      "Epoch:   422 \t Cost: 1.139e+04 \t W: 44.64 \t b: 36.01\n",
      "Epoch:   423 \t Cost: 1.138e+04 \t W: 44.63 \t b: 36.08\n",
      "Epoch:   424 \t Cost: 1.138e+04 \t W: 44.62 \t b: 36.15\n",
      "Epoch:   425 \t Cost: 1.138e+04 \t W: 44.61 \t b: 36.22\n",
      "Epoch:   426 \t Cost: 1.137e+04 \t W: 44.61 \t b: 36.28\n",
      "Epoch:   427 \t Cost: 1.137e+04 \t W:  44.6 \t b: 36.35\n",
      "Epoch:   428 \t Cost: 1.136e+04 \t W: 44.59 \t b: 36.42\n",
      "Epoch:   429 \t Cost: 1.136e+04 \t W: 44.58 \t b: 36.48\n",
      "Epoch:   430 \t Cost: 1.135e+04 \t W: 44.57 \t b: 36.55\n",
      "Epoch:   431 \t Cost: 1.135e+04 \t W: 44.56 \t b: 36.62\n",
      "Epoch:   432 \t Cost: 1.134e+04 \t W: 44.55 \t b: 36.68\n",
      "Epoch:   433 \t Cost: 1.134e+04 \t W: 44.55 \t b: 36.75\n",
      "Epoch:   434 \t Cost: 1.133e+04 \t W: 44.54 \t b: 36.82\n",
      "Epoch:   435 \t Cost: 1.133e+04 \t W: 44.53 \t b: 36.88\n",
      "Epoch:   436 \t Cost: 1.133e+04 \t W: 44.52 \t b: 36.95\n",
      "Epoch:   437 \t Cost: 1.132e+04 \t W: 44.51 \t b: 37.02\n",
      "Epoch:   438 \t Cost: 1.132e+04 \t W:  44.5 \t b: 37.09\n",
      "Epoch:   439 \t Cost: 1.131e+04 \t W: 44.49 \t b: 37.15\n",
      "Epoch:   440 \t Cost: 1.131e+04 \t W: 44.49 \t b: 37.22\n",
      "Epoch:   441 \t Cost:  1.13e+04 \t W: 44.48 \t b: 37.29\n",
      "Epoch:   442 \t Cost:  1.13e+04 \t W: 44.47 \t b: 37.35\n",
      "Epoch:   443 \t Cost: 1.129e+04 \t W: 44.46 \t b: 37.42\n",
      "Epoch:   444 \t Cost: 1.129e+04 \t W: 44.45 \t b: 37.49\n",
      "Epoch:   445 \t Cost: 1.128e+04 \t W: 44.44 \t b: 37.55\n",
      "Epoch:   446 \t Cost: 1.128e+04 \t W: 44.43 \t b: 37.62\n",
      "Epoch:   447 \t Cost: 1.128e+04 \t W: 44.43 \t b: 37.69\n",
      "Epoch:   448 \t Cost: 1.127e+04 \t W: 44.42 \t b: 37.75\n",
      "Epoch:   449 \t Cost: 1.127e+04 \t W: 44.41 \t b: 37.82\n",
      "Epoch:   450 \t Cost: 1.126e+04 \t W:  44.4 \t b: 37.89\n",
      "Epoch:   451 \t Cost: 1.126e+04 \t W: 44.39 \t b: 37.95\n",
      "Epoch:   452 \t Cost: 1.125e+04 \t W: 44.38 \t b: 38.02\n",
      "Epoch:   453 \t Cost: 1.125e+04 \t W: 44.37 \t b: 38.09\n",
      "Epoch:   454 \t Cost: 1.124e+04 \t W: 44.37 \t b: 38.15\n",
      "Epoch:   455 \t Cost: 1.124e+04 \t W: 44.36 \t b: 38.22\n",
      "Epoch:   456 \t Cost: 1.123e+04 \t W: 44.35 \t b: 38.29\n",
      "Epoch:   457 \t Cost: 1.123e+04 \t W: 44.34 \t b: 38.35\n",
      "Epoch:   458 \t Cost: 1.123e+04 \t W: 44.33 \t b: 38.42\n",
      "Epoch:   459 \t Cost: 1.122e+04 \t W: 44.32 \t b: 38.49\n",
      "Epoch:   460 \t Cost: 1.122e+04 \t W: 44.31 \t b: 38.55\n",
      "Epoch:   461 \t Cost: 1.121e+04 \t W: 44.31 \t b: 38.62\n",
      "Epoch:   462 \t Cost: 1.121e+04 \t W:  44.3 \t b: 38.69\n",
      "Epoch:   463 \t Cost:  1.12e+04 \t W: 44.29 \t b: 38.75\n",
      "Epoch:   464 \t Cost:  1.12e+04 \t W: 44.28 \t b: 38.82\n",
      "Epoch:   465 \t Cost: 1.119e+04 \t W: 44.27 \t b: 38.89\n",
      "Epoch:   466 \t Cost: 1.119e+04 \t W: 44.26 \t b: 38.95\n",
      "Epoch:   467 \t Cost: 1.119e+04 \t W: 44.25 \t b: 39.02\n",
      "Epoch:   468 \t Cost: 1.118e+04 \t W: 44.25 \t b: 39.08\n",
      "Epoch:   469 \t Cost: 1.118e+04 \t W: 44.24 \t b: 39.15\n",
      "Epoch:   470 \t Cost: 1.117e+04 \t W: 44.23 \t b: 39.22\n",
      "Epoch:   471 \t Cost: 1.117e+04 \t W: 44.22 \t b: 39.28\n",
      "Epoch:   472 \t Cost: 1.116e+04 \t W: 44.21 \t b: 39.35\n",
      "Epoch:   473 \t Cost: 1.116e+04 \t W:  44.2 \t b: 39.42\n",
      "Epoch:   474 \t Cost: 1.115e+04 \t W:  44.2 \t b: 39.48\n",
      "Epoch:   475 \t Cost: 1.115e+04 \t W: 44.19 \t b: 39.55\n",
      "Epoch:   476 \t Cost: 1.115e+04 \t W: 44.18 \t b: 39.62\n",
      "Epoch:   477 \t Cost: 1.114e+04 \t W: 44.17 \t b: 39.68\n",
      "Epoch:   478 \t Cost: 1.114e+04 \t W: 44.16 \t b: 39.75\n",
      "Epoch:   479 \t Cost: 1.113e+04 \t W: 44.15 \t b: 39.82\n",
      "Epoch:   480 \t Cost: 1.113e+04 \t W: 44.14 \t b: 39.88\n",
      "Epoch:   481 \t Cost: 1.112e+04 \t W: 44.14 \t b: 39.95\n",
      "Epoch:   482 \t Cost: 1.112e+04 \t W: 44.13 \t b: 40.01\n",
      "Epoch:   483 \t Cost: 1.111e+04 \t W: 44.12 \t b: 40.08\n",
      "Epoch:   484 \t Cost: 1.111e+04 \t W: 44.11 \t b: 40.15\n",
      "Epoch:   485 \t Cost:  1.11e+04 \t W:  44.1 \t b: 40.21\n",
      "Epoch:   486 \t Cost:  1.11e+04 \t W: 44.09 \t b: 40.28\n",
      "Epoch:   487 \t Cost:  1.11e+04 \t W: 44.08 \t b: 40.35\n",
      "Epoch:   488 \t Cost: 1.109e+04 \t W: 44.08 \t b: 40.41\n",
      "Epoch:   489 \t Cost: 1.109e+04 \t W: 44.07 \t b: 40.48\n",
      "Epoch:   490 \t Cost: 1.108e+04 \t W: 44.06 \t b: 40.54\n",
      "Epoch:   491 \t Cost: 1.108e+04 \t W: 44.05 \t b: 40.61\n",
      "Epoch:   492 \t Cost: 1.107e+04 \t W: 44.04 \t b: 40.68\n",
      "Epoch:   493 \t Cost: 1.107e+04 \t W: 44.03 \t b: 40.74\n",
      "Epoch:   494 \t Cost: 1.106e+04 \t W: 44.03 \t b: 40.81\n",
      "Epoch:   495 \t Cost: 1.106e+04 \t W: 44.02 \t b: 40.87\n",
      "Epoch:   496 \t Cost: 1.106e+04 \t W: 44.01 \t b: 40.94\n",
      "Epoch:   497 \t Cost: 1.105e+04 \t W:  44.0 \t b: 41.01\n",
      "Epoch:   498 \t Cost: 1.105e+04 \t W: 43.99 \t b: 41.07\n",
      "Epoch:   499 \t Cost: 1.104e+04 \t W: 43.98 \t b: 41.14\n",
      "Epoch:   500 \t Cost: 1.104e+04 \t W: 43.97 \t b:  41.2\n",
      "Epoch:   501 \t Cost: 1.103e+04 \t W: 43.97 \t b: 41.27\n",
      "Epoch:   502 \t Cost: 1.103e+04 \t W: 43.96 \t b: 41.34\n",
      "Epoch:   503 \t Cost: 1.102e+04 \t W: 43.95 \t b:  41.4\n",
      "Epoch:   504 \t Cost: 1.102e+04 \t W: 43.94 \t b: 41.47\n",
      "Epoch:   505 \t Cost: 1.102e+04 \t W: 43.93 \t b: 41.53\n",
      "Epoch:   506 \t Cost: 1.101e+04 \t W: 43.92 \t b:  41.6\n",
      "Epoch:   507 \t Cost: 1.101e+04 \t W: 43.92 \t b: 41.67\n",
      "Epoch:   508 \t Cost:   1.1e+04 \t W: 43.91 \t b: 41.73\n",
      "Epoch:   509 \t Cost:   1.1e+04 \t W:  43.9 \t b:  41.8\n",
      "Epoch:   510 \t Cost: 1.099e+04 \t W: 43.89 \t b: 41.86\n",
      "Epoch:   511 \t Cost: 1.099e+04 \t W: 43.88 \t b: 41.93\n",
      "Epoch:   512 \t Cost: 1.099e+04 \t W: 43.87 \t b:  42.0\n",
      "Epoch:   513 \t Cost: 1.098e+04 \t W: 43.86 \t b: 42.06\n",
      "Epoch:   514 \t Cost: 1.098e+04 \t W: 43.86 \t b: 42.13\n",
      "Epoch:   515 \t Cost: 1.097e+04 \t W: 43.85 \t b: 42.19\n",
      "Epoch:   516 \t Cost: 1.097e+04 \t W: 43.84 \t b: 42.26\n",
      "Epoch:   517 \t Cost: 1.096e+04 \t W: 43.83 \t b: 42.32\n",
      "Epoch:   518 \t Cost: 1.096e+04 \t W: 43.82 \t b: 42.39\n",
      "Epoch:   519 \t Cost: 1.095e+04 \t W: 43.81 \t b: 42.46\n",
      "Epoch:   520 \t Cost: 1.095e+04 \t W: 43.81 \t b: 42.52\n",
      "Epoch:   521 \t Cost: 1.095e+04 \t W:  43.8 \t b: 42.59\n",
      "Epoch:   522 \t Cost: 1.094e+04 \t W: 43.79 \t b: 42.65\n",
      "Epoch:   523 \t Cost: 1.094e+04 \t W: 43.78 \t b: 42.72\n",
      "Epoch:   524 \t Cost: 1.093e+04 \t W: 43.77 \t b: 42.79\n",
      "Epoch:   525 \t Cost: 1.093e+04 \t W: 43.76 \t b: 42.85\n",
      "Epoch:   526 \t Cost: 1.092e+04 \t W: 43.76 \t b: 42.92\n",
      "Epoch:   527 \t Cost: 1.092e+04 \t W: 43.75 \t b: 42.98\n",
      "Epoch:   528 \t Cost: 1.091e+04 \t W: 43.74 \t b: 43.05\n",
      "Epoch:   529 \t Cost: 1.091e+04 \t W: 43.73 \t b: 43.11\n",
      "Epoch:   530 \t Cost: 1.091e+04 \t W: 43.72 \t b: 43.18\n",
      "Epoch:   531 \t Cost:  1.09e+04 \t W: 43.71 \t b: 43.24\n",
      "Epoch:   532 \t Cost:  1.09e+04 \t W:  43.7 \t b: 43.31\n",
      "Epoch:   533 \t Cost: 1.089e+04 \t W:  43.7 \t b: 43.38\n",
      "Epoch:   534 \t Cost: 1.089e+04 \t W: 43.69 \t b: 43.44\n",
      "Epoch:   535 \t Cost: 1.088e+04 \t W: 43.68 \t b: 43.51\n",
      "Epoch:   536 \t Cost: 1.088e+04 \t W: 43.67 \t b: 43.57\n",
      "Epoch:   537 \t Cost: 1.088e+04 \t W: 43.66 \t b: 43.64\n",
      "Epoch:   538 \t Cost: 1.087e+04 \t W: 43.65 \t b:  43.7\n",
      "Epoch:   539 \t Cost: 1.087e+04 \t W: 43.65 \t b: 43.77\n",
      "Epoch:   540 \t Cost: 1.086e+04 \t W: 43.64 \t b: 43.83\n",
      "Epoch:   541 \t Cost: 1.086e+04 \t W: 43.63 \t b:  43.9\n",
      "Epoch:   542 \t Cost: 1.085e+04 \t W: 43.62 \t b: 43.97\n",
      "Epoch:   543 \t Cost: 1.085e+04 \t W: 43.61 \t b: 44.03\n",
      "Epoch:   544 \t Cost: 1.084e+04 \t W:  43.6 \t b:  44.1\n",
      "Epoch:   545 \t Cost: 1.084e+04 \t W:  43.6 \t b: 44.16\n",
      "Epoch:   546 \t Cost: 1.084e+04 \t W: 43.59 \t b: 44.23\n",
      "Epoch:   547 \t Cost: 1.083e+04 \t W: 43.58 \t b: 44.29\n",
      "Epoch:   548 \t Cost: 1.083e+04 \t W: 43.57 \t b: 44.36\n",
      "Epoch:   549 \t Cost: 1.082e+04 \t W: 43.56 \t b: 44.42\n",
      "Epoch:   550 \t Cost: 1.082e+04 \t W: 43.55 \t b: 44.49\n",
      "Epoch:   551 \t Cost: 1.081e+04 \t W: 43.55 \t b: 44.55\n",
      "Epoch:   552 \t Cost: 1.081e+04 \t W: 43.54 \t b: 44.62\n",
      "Epoch:   553 \t Cost: 1.081e+04 \t W: 43.53 \t b: 44.69\n",
      "Epoch:   554 \t Cost:  1.08e+04 \t W: 43.52 \t b: 44.75\n",
      "Epoch:   555 \t Cost:  1.08e+04 \t W: 43.51 \t b: 44.82\n",
      "Epoch:   556 \t Cost: 1.079e+04 \t W:  43.5 \t b: 44.88\n",
      "Epoch:   557 \t Cost: 1.079e+04 \t W: 43.49 \t b: 44.95\n",
      "Epoch:   558 \t Cost: 1.078e+04 \t W: 43.49 \t b: 45.01\n",
      "Epoch:   559 \t Cost: 1.078e+04 \t W: 43.48 \t b: 45.08\n",
      "Epoch:   560 \t Cost: 1.078e+04 \t W: 43.47 \t b: 45.14\n",
      "Epoch:   561 \t Cost: 1.077e+04 \t W: 43.46 \t b: 45.21\n",
      "Epoch:   562 \t Cost: 1.077e+04 \t W: 43.45 \t b: 45.27\n",
      "Epoch:   563 \t Cost: 1.076e+04 \t W: 43.44 \t b: 45.34\n",
      "Epoch:   564 \t Cost: 1.076e+04 \t W: 43.44 \t b:  45.4\n",
      "Epoch:   565 \t Cost: 1.075e+04 \t W: 43.43 \t b: 45.47\n",
      "Epoch:   566 \t Cost: 1.075e+04 \t W: 43.42 \t b: 45.53\n",
      "Epoch:   567 \t Cost: 1.075e+04 \t W: 43.41 \t b:  45.6\n",
      "Epoch:   568 \t Cost: 1.074e+04 \t W:  43.4 \t b: 45.66\n",
      "Epoch:   569 \t Cost: 1.074e+04 \t W: 43.39 \t b: 45.73\n",
      "Epoch:   570 \t Cost: 1.073e+04 \t W: 43.39 \t b: 45.79\n",
      "Epoch:   571 \t Cost: 1.073e+04 \t W: 43.38 \t b: 45.86\n",
      "Epoch:   572 \t Cost: 1.072e+04 \t W: 43.37 \t b: 45.92\n",
      "Epoch:   573 \t Cost: 1.072e+04 \t W: 43.36 \t b: 45.99\n",
      "Epoch:   574 \t Cost: 1.072e+04 \t W: 43.35 \t b: 46.05\n",
      "Epoch:   575 \t Cost: 1.071e+04 \t W: 43.34 \t b: 46.12\n",
      "Epoch:   576 \t Cost: 1.071e+04 \t W: 43.34 \t b: 46.18\n",
      "Epoch:   577 \t Cost:  1.07e+04 \t W: 43.33 \t b: 46.25\n",
      "Epoch:   578 \t Cost:  1.07e+04 \t W: 43.32 \t b: 46.31\n",
      "Epoch:   579 \t Cost: 1.069e+04 \t W: 43.31 \t b: 46.38\n",
      "Epoch:   580 \t Cost: 1.069e+04 \t W:  43.3 \t b: 46.44\n",
      "Epoch:   581 \t Cost: 1.069e+04 \t W: 43.29 \t b: 46.51\n",
      "Epoch:   582 \t Cost: 1.068e+04 \t W: 43.29 \t b: 46.57\n",
      "Epoch:   583 \t Cost: 1.068e+04 \t W: 43.28 \t b: 46.64\n",
      "Epoch:   584 \t Cost: 1.067e+04 \t W: 43.27 \t b:  46.7\n",
      "Epoch:   585 \t Cost: 1.067e+04 \t W: 43.26 \t b: 46.77\n",
      "Epoch:   586 \t Cost: 1.066e+04 \t W: 43.25 \t b: 46.83\n",
      "Epoch:   587 \t Cost: 1.066e+04 \t W: 43.24 \t b:  46.9\n",
      "Epoch:   588 \t Cost: 1.066e+04 \t W: 43.24 \t b: 46.96\n",
      "Epoch:   589 \t Cost: 1.065e+04 \t W: 43.23 \t b: 47.03\n",
      "Epoch:   590 \t Cost: 1.065e+04 \t W: 43.22 \t b: 47.09\n",
      "Epoch:   591 \t Cost: 1.064e+04 \t W: 43.21 \t b: 47.16\n",
      "Epoch:   592 \t Cost: 1.064e+04 \t W:  43.2 \t b: 47.22\n",
      "Epoch:   593 \t Cost: 1.063e+04 \t W: 43.19 \t b: 47.29\n",
      "Epoch:   594 \t Cost: 1.063e+04 \t W: 43.19 \t b: 47.35\n",
      "Epoch:   595 \t Cost: 1.063e+04 \t W: 43.18 \t b: 47.42\n",
      "Epoch:   596 \t Cost: 1.062e+04 \t W: 43.17 \t b: 47.48\n",
      "Epoch:   597 \t Cost: 1.062e+04 \t W: 43.16 \t b: 47.55\n",
      "Epoch:   598 \t Cost: 1.061e+04 \t W: 43.15 \t b: 47.61\n",
      "Epoch:   599 \t Cost: 1.061e+04 \t W: 43.15 \t b: 47.68\n",
      "Epoch:   600 \t Cost:  1.06e+04 \t W: 43.14 \t b: 47.74\n",
      "Epoch:   601 \t Cost:  1.06e+04 \t W: 43.13 \t b: 47.81\n",
      "Epoch:   602 \t Cost:  1.06e+04 \t W: 43.12 \t b: 47.87\n",
      "Epoch:   603 \t Cost: 1.059e+04 \t W: 43.11 \t b: 47.93\n",
      "Epoch:   604 \t Cost: 1.059e+04 \t W:  43.1 \t b:  48.0\n",
      "Epoch:   605 \t Cost: 1.058e+04 \t W:  43.1 \t b: 48.06\n",
      "Epoch:   606 \t Cost: 1.058e+04 \t W: 43.09 \t b: 48.13\n",
      "Epoch:   607 \t Cost: 1.057e+04 \t W: 43.08 \t b: 48.19\n",
      "Epoch:   608 \t Cost: 1.057e+04 \t W: 43.07 \t b: 48.26\n",
      "Epoch:   609 \t Cost: 1.057e+04 \t W: 43.06 \t b: 48.32\n",
      "Epoch:   610 \t Cost: 1.056e+04 \t W: 43.05 \t b: 48.39\n",
      "Epoch:   611 \t Cost: 1.056e+04 \t W: 43.05 \t b: 48.45\n",
      "Epoch:   612 \t Cost: 1.055e+04 \t W: 43.04 \t b: 48.52\n",
      "Epoch:   613 \t Cost: 1.055e+04 \t W: 43.03 \t b: 48.58\n",
      "Epoch:   614 \t Cost: 1.054e+04 \t W: 43.02 \t b: 48.65\n",
      "Epoch:   615 \t Cost: 1.054e+04 \t W: 43.01 \t b: 48.71\n",
      "Epoch:   616 \t Cost: 1.054e+04 \t W:  43.0 \t b: 48.77\n",
      "Epoch:   617 \t Cost: 1.053e+04 \t W:  43.0 \t b: 48.84\n",
      "Epoch:   618 \t Cost: 1.053e+04 \t W: 42.99 \t b:  48.9\n",
      "Epoch:   619 \t Cost: 1.052e+04 \t W: 42.98 \t b: 48.97\n",
      "Epoch:   620 \t Cost: 1.052e+04 \t W: 42.97 \t b: 49.03\n",
      "Epoch:   621 \t Cost: 1.051e+04 \t W: 42.96 \t b:  49.1\n",
      "Epoch:   622 \t Cost: 1.051e+04 \t W: 42.95 \t b: 49.16\n",
      "Epoch:   623 \t Cost: 1.051e+04 \t W: 42.95 \t b: 49.23\n",
      "Epoch:   624 \t Cost:  1.05e+04 \t W: 42.94 \t b: 49.29\n",
      "Epoch:   625 \t Cost:  1.05e+04 \t W: 42.93 \t b: 49.35\n",
      "Epoch:   626 \t Cost: 1.049e+04 \t W: 42.92 \t b: 49.42\n",
      "Epoch:   627 \t Cost: 1.049e+04 \t W: 42.91 \t b: 49.48\n",
      "Epoch:   628 \t Cost: 1.049e+04 \t W: 42.91 \t b: 49.55\n",
      "Epoch:   629 \t Cost: 1.048e+04 \t W:  42.9 \t b: 49.61\n",
      "Epoch:   630 \t Cost: 1.048e+04 \t W: 42.89 \t b: 49.68\n",
      "Epoch:   631 \t Cost: 1.047e+04 \t W: 42.88 \t b: 49.74\n",
      "Epoch:   632 \t Cost: 1.047e+04 \t W: 42.87 \t b:  49.8\n",
      "Epoch:   633 \t Cost: 1.046e+04 \t W: 42.86 \t b: 49.87\n",
      "Epoch:   634 \t Cost: 1.046e+04 \t W: 42.86 \t b: 49.93\n",
      "Epoch:   635 \t Cost: 1.046e+04 \t W: 42.85 \t b:  50.0\n",
      "Epoch:   636 \t Cost: 1.045e+04 \t W: 42.84 \t b: 50.06\n",
      "Epoch:   637 \t Cost: 1.045e+04 \t W: 42.83 \t b: 50.13\n",
      "Epoch:   638 \t Cost: 1.044e+04 \t W: 42.82 \t b: 50.19\n",
      "Epoch:   639 \t Cost: 1.044e+04 \t W: 42.81 \t b: 50.25\n",
      "Epoch:   640 \t Cost: 1.044e+04 \t W: 42.81 \t b: 50.32\n",
      "Epoch:   641 \t Cost: 1.043e+04 \t W:  42.8 \t b: 50.38\n",
      "Epoch:   642 \t Cost: 1.043e+04 \t W: 42.79 \t b: 50.45\n",
      "Epoch:   643 \t Cost: 1.042e+04 \t W: 42.78 \t b: 50.51\n",
      "Epoch:   644 \t Cost: 1.042e+04 \t W: 42.77 \t b: 50.58\n",
      "Epoch:   645 \t Cost: 1.041e+04 \t W: 42.77 \t b: 50.64\n",
      "Epoch:   646 \t Cost: 1.041e+04 \t W: 42.76 \t b:  50.7\n",
      "Epoch:   647 \t Cost: 1.041e+04 \t W: 42.75 \t b: 50.77\n",
      "Epoch:   648 \t Cost:  1.04e+04 \t W: 42.74 \t b: 50.83\n",
      "Epoch:   649 \t Cost:  1.04e+04 \t W: 42.73 \t b:  50.9\n",
      "Epoch:   650 \t Cost: 1.039e+04 \t W: 42.72 \t b: 50.96\n",
      "Epoch:   651 \t Cost: 1.039e+04 \t W: 42.72 \t b: 51.02\n",
      "Epoch:   652 \t Cost: 1.038e+04 \t W: 42.71 \t b: 51.09\n",
      "Epoch:   653 \t Cost: 1.038e+04 \t W:  42.7 \t b: 51.15\n",
      "Epoch:   654 \t Cost: 1.038e+04 \t W: 42.69 \t b: 51.22\n",
      "Epoch:   655 \t Cost: 1.037e+04 \t W: 42.68 \t b: 51.28\n",
      "Epoch:   656 \t Cost: 1.037e+04 \t W: 42.67 \t b: 51.34\n",
      "Epoch:   657 \t Cost: 1.036e+04 \t W: 42.67 \t b: 51.41\n",
      "Epoch:   658 \t Cost: 1.036e+04 \t W: 42.66 \t b: 51.47\n",
      "Epoch:   659 \t Cost: 1.036e+04 \t W: 42.65 \t b: 51.54\n",
      "Epoch:   660 \t Cost: 1.035e+04 \t W: 42.64 \t b:  51.6\n",
      "Epoch:   661 \t Cost: 1.035e+04 \t W: 42.63 \t b: 51.66\n",
      "Epoch:   662 \t Cost: 1.034e+04 \t W: 42.63 \t b: 51.73\n",
      "Epoch:   663 \t Cost: 1.034e+04 \t W: 42.62 \t b: 51.79\n",
      "Epoch:   664 \t Cost: 1.034e+04 \t W: 42.61 \t b: 51.86\n",
      "Epoch:   665 \t Cost: 1.033e+04 \t W:  42.6 \t b: 51.92\n",
      "Epoch:   666 \t Cost: 1.033e+04 \t W: 42.59 \t b: 51.98\n",
      "Epoch:   667 \t Cost: 1.032e+04 \t W: 42.58 \t b: 52.05\n",
      "Epoch:   668 \t Cost: 1.032e+04 \t W: 42.58 \t b: 52.11\n",
      "Epoch:   669 \t Cost: 1.031e+04 \t W: 42.57 \t b: 52.17\n",
      "Epoch:   670 \t Cost: 1.031e+04 \t W: 42.56 \t b: 52.24\n",
      "Epoch:   671 \t Cost: 1.031e+04 \t W: 42.55 \t b:  52.3\n",
      "Epoch:   672 \t Cost:  1.03e+04 \t W: 42.54 \t b: 52.37\n",
      "Epoch:   673 \t Cost:  1.03e+04 \t W: 42.54 \t b: 52.43\n",
      "Epoch:   674 \t Cost: 1.029e+04 \t W: 42.53 \t b: 52.49\n",
      "Epoch:   675 \t Cost: 1.029e+04 \t W: 42.52 \t b: 52.56\n",
      "Epoch:   676 \t Cost: 1.029e+04 \t W: 42.51 \t b: 52.62\n",
      "Epoch:   677 \t Cost: 1.028e+04 \t W:  42.5 \t b: 52.68\n",
      "Epoch:   678 \t Cost: 1.028e+04 \t W: 42.49 \t b: 52.75\n",
      "Epoch:   679 \t Cost: 1.027e+04 \t W: 42.49 \t b: 52.81\n",
      "Epoch:   680 \t Cost: 1.027e+04 \t W: 42.48 \t b: 52.88\n",
      "Epoch:   681 \t Cost: 1.026e+04 \t W: 42.47 \t b: 52.94\n",
      "Epoch:   682 \t Cost: 1.026e+04 \t W: 42.46 \t b:  53.0\n",
      "Epoch:   683 \t Cost: 1.026e+04 \t W: 42.45 \t b: 53.07\n",
      "Epoch:   684 \t Cost: 1.025e+04 \t W: 42.45 \t b: 53.13\n",
      "Epoch:   685 \t Cost: 1.025e+04 \t W: 42.44 \t b: 53.19\n",
      "Epoch:   686 \t Cost: 1.024e+04 \t W: 42.43 \t b: 53.26\n",
      "Epoch:   687 \t Cost: 1.024e+04 \t W: 42.42 \t b: 53.32\n",
      "Epoch:   688 \t Cost: 1.024e+04 \t W: 42.41 \t b: 53.38\n",
      "Epoch:   689 \t Cost: 1.023e+04 \t W: 42.41 \t b: 53.45\n",
      "Epoch:   690 \t Cost: 1.023e+04 \t W:  42.4 \t b: 53.51\n",
      "Epoch:   691 \t Cost: 1.022e+04 \t W: 42.39 \t b: 53.58\n",
      "Epoch:   692 \t Cost: 1.022e+04 \t W: 42.38 \t b: 53.64\n",
      "Epoch:   693 \t Cost: 1.022e+04 \t W: 42.37 \t b:  53.7\n",
      "Epoch:   694 \t Cost: 1.021e+04 \t W: 42.36 \t b: 53.77\n",
      "Epoch:   695 \t Cost: 1.021e+04 \t W: 42.36 \t b: 53.83\n",
      "Epoch:   696 \t Cost:  1.02e+04 \t W: 42.35 \t b: 53.89\n",
      "Epoch:   697 \t Cost:  1.02e+04 \t W: 42.34 \t b: 53.96\n",
      "Epoch:   698 \t Cost:  1.02e+04 \t W: 42.33 \t b: 54.02\n",
      "Epoch:   699 \t Cost: 1.019e+04 \t W: 42.32 \t b: 54.08\n",
      "Epoch:   700 \t Cost: 1.019e+04 \t W: 42.32 \t b: 54.15\n",
      "Epoch:   701 \t Cost: 1.018e+04 \t W: 42.31 \t b: 54.21\n",
      "Epoch:   702 \t Cost: 1.018e+04 \t W:  42.3 \t b: 54.27\n",
      "Epoch:   703 \t Cost: 1.017e+04 \t W: 42.29 \t b: 54.34\n",
      "Epoch:   704 \t Cost: 1.017e+04 \t W: 42.28 \t b:  54.4\n",
      "Epoch:   705 \t Cost: 1.017e+04 \t W: 42.28 \t b: 54.46\n",
      "Epoch:   706 \t Cost: 1.016e+04 \t W: 42.27 \t b: 54.53\n",
      "Epoch:   707 \t Cost: 1.016e+04 \t W: 42.26 \t b: 54.59\n",
      "Epoch:   708 \t Cost: 1.015e+04 \t W: 42.25 \t b: 54.65\n",
      "Epoch:   709 \t Cost: 1.015e+04 \t W: 42.24 \t b: 54.72\n",
      "Epoch:   710 \t Cost: 1.015e+04 \t W: 42.23 \t b: 54.78\n",
      "Epoch:   711 \t Cost: 1.014e+04 \t W: 42.23 \t b: 54.84\n",
      "Epoch:   712 \t Cost: 1.014e+04 \t W: 42.22 \t b: 54.91\n",
      "Epoch:   713 \t Cost: 1.013e+04 \t W: 42.21 \t b: 54.97\n",
      "Epoch:   714 \t Cost: 1.013e+04 \t W:  42.2 \t b: 55.03\n",
      "Epoch:   715 \t Cost: 1.013e+04 \t W: 42.19 \t b:  55.1\n",
      "Epoch:   716 \t Cost: 1.012e+04 \t W: 42.19 \t b: 55.16\n",
      "Epoch:   717 \t Cost: 1.012e+04 \t W: 42.18 \t b: 55.22\n",
      "Epoch:   718 \t Cost: 1.011e+04 \t W: 42.17 \t b: 55.29\n",
      "Epoch:   719 \t Cost: 1.011e+04 \t W: 42.16 \t b: 55.35\n",
      "Epoch:   720 \t Cost: 1.011e+04 \t W: 42.15 \t b: 55.41\n",
      "Epoch:   721 \t Cost:  1.01e+04 \t W: 42.15 \t b: 55.48\n",
      "Epoch:   722 \t Cost:  1.01e+04 \t W: 42.14 \t b: 55.54\n",
      "Epoch:   723 \t Cost: 1.009e+04 \t W: 42.13 \t b:  55.6\n",
      "Epoch:   724 \t Cost: 1.009e+04 \t W: 42.12 \t b: 55.66\n",
      "Epoch:   725 \t Cost: 1.009e+04 \t W: 42.11 \t b: 55.73\n",
      "Epoch:   726 \t Cost: 1.008e+04 \t W: 42.11 \t b: 55.79\n",
      "Epoch:   727 \t Cost: 1.008e+04 \t W:  42.1 \t b: 55.85\n",
      "Epoch:   728 \t Cost: 1.007e+04 \t W: 42.09 \t b: 55.92\n",
      "Epoch:   729 \t Cost: 1.007e+04 \t W: 42.08 \t b: 55.98\n",
      "Epoch:   730 \t Cost: 1.007e+04 \t W: 42.07 \t b: 56.04\n",
      "Epoch:   731 \t Cost: 1.006e+04 \t W: 42.06 \t b: 56.11\n",
      "Epoch:   732 \t Cost: 1.006e+04 \t W: 42.06 \t b: 56.17\n",
      "Epoch:   733 \t Cost: 1.005e+04 \t W: 42.05 \t b: 56.23\n",
      "Epoch:   734 \t Cost: 1.005e+04 \t W: 42.04 \t b:  56.3\n",
      "Epoch:   735 \t Cost: 1.004e+04 \t W: 42.03 \t b: 56.36\n",
      "Epoch:   736 \t Cost: 1.004e+04 \t W: 42.02 \t b: 56.42\n",
      "Epoch:   737 \t Cost: 1.004e+04 \t W: 42.02 \t b: 56.48\n",
      "Epoch:   738 \t Cost: 1.003e+04 \t W: 42.01 \t b: 56.55\n",
      "Epoch:   739 \t Cost: 1.003e+04 \t W:  42.0 \t b: 56.61\n",
      "Epoch:   740 \t Cost: 1.002e+04 \t W: 41.99 \t b: 56.67\n",
      "Epoch:   741 \t Cost: 1.002e+04 \t W: 41.98 \t b: 56.74\n",
      "Epoch:   742 \t Cost: 1.002e+04 \t W: 41.98 \t b:  56.8\n",
      "Epoch:   743 \t Cost: 1.001e+04 \t W: 41.97 \t b: 56.86\n",
      "Epoch:   744 \t Cost: 1.001e+04 \t W: 41.96 \t b: 56.92\n",
      "Epoch:   745 \t Cost:     1e+04 \t W: 41.95 \t b: 56.99\n",
      "Epoch:   746 \t Cost:     1e+04 \t W: 41.94 \t b: 57.05\n",
      "Epoch:   747 \t Cost: 9.997e+03 \t W: 41.94 \t b: 57.11\n",
      "Epoch:   748 \t Cost: 9.993e+03 \t W: 41.93 \t b: 57.18\n",
      "Epoch:   749 \t Cost: 9.989e+03 \t W: 41.92 \t b: 57.24\n",
      "Epoch:   750 \t Cost: 9.985e+03 \t W: 41.91 \t b:  57.3\n",
      "Epoch:   751 \t Cost: 9.981e+03 \t W:  41.9 \t b: 57.36\n",
      "Epoch:   752 \t Cost: 9.977e+03 \t W:  41.9 \t b: 57.43\n",
      "Epoch:   753 \t Cost: 9.973e+03 \t W: 41.89 \t b: 57.49\n",
      "Epoch:   754 \t Cost: 9.969e+03 \t W: 41.88 \t b: 57.55\n",
      "Epoch:   755 \t Cost: 9.965e+03 \t W: 41.87 \t b: 57.61\n",
      "Epoch:   756 \t Cost: 9.961e+03 \t W: 41.86 \t b: 57.68\n",
      "Epoch:   757 \t Cost: 9.957e+03 \t W: 41.86 \t b: 57.74\n",
      "Epoch:   758 \t Cost: 9.953e+03 \t W: 41.85 \t b:  57.8\n",
      "Epoch:   759 \t Cost: 9.949e+03 \t W: 41.84 \t b: 57.87\n",
      "Epoch:   760 \t Cost: 9.945e+03 \t W: 41.83 \t b: 57.93\n",
      "Epoch:   761 \t Cost: 9.941e+03 \t W: 41.82 \t b: 57.99\n",
      "Epoch:   762 \t Cost: 9.937e+03 \t W: 41.82 \t b: 58.05\n",
      "Epoch:   763 \t Cost: 9.933e+03 \t W: 41.81 \t b: 58.12\n",
      "Epoch:   764 \t Cost: 9.929e+03 \t W:  41.8 \t b: 58.18\n",
      "Epoch:   765 \t Cost: 9.925e+03 \t W: 41.79 \t b: 58.24\n",
      "Epoch:   766 \t Cost: 9.921e+03 \t W: 41.78 \t b:  58.3\n",
      "Epoch:   767 \t Cost: 9.917e+03 \t W: 41.77 \t b: 58.37\n",
      "Epoch:   768 \t Cost: 9.913e+03 \t W: 41.77 \t b: 58.43\n",
      "Epoch:   769 \t Cost: 9.909e+03 \t W: 41.76 \t b: 58.49\n",
      "Epoch:   770 \t Cost: 9.905e+03 \t W: 41.75 \t b: 58.55\n",
      "Epoch:   771 \t Cost: 9.901e+03 \t W: 41.74 \t b: 58.62\n",
      "Epoch:   772 \t Cost: 9.897e+03 \t W: 41.73 \t b: 58.68\n",
      "Epoch:   773 \t Cost: 9.893e+03 \t W: 41.73 \t b: 58.74\n",
      "Epoch:   774 \t Cost: 9.889e+03 \t W: 41.72 \t b:  58.8\n",
      "Epoch:   775 \t Cost: 9.885e+03 \t W: 41.71 \t b: 58.87\n",
      "Epoch:   776 \t Cost: 9.881e+03 \t W:  41.7 \t b: 58.93\n",
      "Epoch:   777 \t Cost: 9.877e+03 \t W: 41.69 \t b: 58.99\n",
      "Epoch:   778 \t Cost: 9.873e+03 \t W: 41.69 \t b: 59.05\n",
      "Epoch:   779 \t Cost: 9.869e+03 \t W: 41.68 \t b: 59.12\n",
      "Epoch:   780 \t Cost: 9.865e+03 \t W: 41.67 \t b: 59.18\n",
      "Epoch:   781 \t Cost: 9.861e+03 \t W: 41.66 \t b: 59.24\n",
      "Epoch:   782 \t Cost: 9.857e+03 \t W: 41.65 \t b:  59.3\n",
      "Epoch:   783 \t Cost: 9.853e+03 \t W: 41.65 \t b: 59.37\n",
      "Epoch:   784 \t Cost: 9.849e+03 \t W: 41.64 \t b: 59.43\n",
      "Epoch:   785 \t Cost: 9.845e+03 \t W: 41.63 \t b: 59.49\n",
      "Epoch:   786 \t Cost: 9.841e+03 \t W: 41.62 \t b: 59.55\n",
      "Epoch:   787 \t Cost: 9.837e+03 \t W: 41.61 \t b: 59.62\n",
      "Epoch:   788 \t Cost: 9.834e+03 \t W: 41.61 \t b: 59.68\n",
      "Epoch:   789 \t Cost:  9.83e+03 \t W:  41.6 \t b: 59.74\n",
      "Epoch:   790 \t Cost: 9.826e+03 \t W: 41.59 \t b:  59.8\n",
      "Epoch:   791 \t Cost: 9.822e+03 \t W: 41.58 \t b: 59.86\n",
      "Epoch:   792 \t Cost: 9.818e+03 \t W: 41.57 \t b: 59.93\n",
      "Epoch:   793 \t Cost: 9.814e+03 \t W: 41.57 \t b: 59.99\n",
      "Epoch:   794 \t Cost:  9.81e+03 \t W: 41.56 \t b: 60.05\n",
      "Epoch:   795 \t Cost: 9.806e+03 \t W: 41.55 \t b: 60.11\n",
      "Epoch:   796 \t Cost: 9.802e+03 \t W: 41.54 \t b: 60.18\n",
      "Epoch:   797 \t Cost: 9.798e+03 \t W: 41.54 \t b: 60.24\n",
      "Epoch:   798 \t Cost: 9.794e+03 \t W: 41.53 \t b:  60.3\n",
      "Epoch:   799 \t Cost:  9.79e+03 \t W: 41.52 \t b: 60.36\n",
      "Epoch:   800 \t Cost: 9.786e+03 \t W: 41.51 \t b: 60.42\n",
      "Epoch:   801 \t Cost: 9.782e+03 \t W:  41.5 \t b: 60.49\n",
      "Epoch:   802 \t Cost: 9.778e+03 \t W:  41.5 \t b: 60.55\n",
      "Epoch:   803 \t Cost: 9.775e+03 \t W: 41.49 \t b: 60.61\n",
      "Epoch:   804 \t Cost: 9.771e+03 \t W: 41.48 \t b: 60.67\n",
      "Epoch:   805 \t Cost: 9.767e+03 \t W: 41.47 \t b: 60.73\n",
      "Epoch:   806 \t Cost: 9.763e+03 \t W: 41.46 \t b:  60.8\n",
      "Epoch:   807 \t Cost: 9.759e+03 \t W: 41.46 \t b: 60.86\n",
      "Epoch:   808 \t Cost: 9.755e+03 \t W: 41.45 \t b: 60.92\n",
      "Epoch:   809 \t Cost: 9.751e+03 \t W: 41.44 \t b: 60.98\n",
      "Epoch:   810 \t Cost: 9.747e+03 \t W: 41.43 \t b: 61.05\n",
      "Epoch:   811 \t Cost: 9.743e+03 \t W: 41.42 \t b: 61.11\n",
      "Epoch:   812 \t Cost: 9.739e+03 \t W: 41.42 \t b: 61.17\n",
      "Epoch:   813 \t Cost: 9.735e+03 \t W: 41.41 \t b: 61.23\n",
      "Epoch:   814 \t Cost: 9.732e+03 \t W:  41.4 \t b: 61.29\n",
      "Epoch:   815 \t Cost: 9.728e+03 \t W: 41.39 \t b: 61.36\n",
      "Epoch:   816 \t Cost: 9.724e+03 \t W: 41.38 \t b: 61.42\n",
      "Epoch:   817 \t Cost:  9.72e+03 \t W: 41.38 \t b: 61.48\n",
      "Epoch:   818 \t Cost: 9.716e+03 \t W: 41.37 \t b: 61.54\n",
      "Epoch:   819 \t Cost: 9.712e+03 \t W: 41.36 \t b:  61.6\n",
      "Epoch:   820 \t Cost: 9.708e+03 \t W: 41.35 \t b: 61.66\n",
      "Epoch:   821 \t Cost: 9.704e+03 \t W: 41.34 \t b: 61.73\n",
      "Epoch:   822 \t Cost:   9.7e+03 \t W: 41.34 \t b: 61.79\n",
      "Epoch:   823 \t Cost: 9.696e+03 \t W: 41.33 \t b: 61.85\n",
      "Epoch:   824 \t Cost: 9.693e+03 \t W: 41.32 \t b: 61.91\n",
      "Epoch:   825 \t Cost: 9.689e+03 \t W: 41.31 \t b: 61.97\n",
      "Epoch:   826 \t Cost: 9.685e+03 \t W:  41.3 \t b: 62.04\n",
      "Epoch:   827 \t Cost: 9.681e+03 \t W:  41.3 \t b:  62.1\n",
      "Epoch:   828 \t Cost: 9.677e+03 \t W: 41.29 \t b: 62.16\n",
      "Epoch:   829 \t Cost: 9.673e+03 \t W: 41.28 \t b: 62.22\n",
      "Epoch:   830 \t Cost: 9.669e+03 \t W: 41.27 \t b: 62.28\n",
      "Epoch:   831 \t Cost: 9.665e+03 \t W: 41.27 \t b: 62.34\n",
      "Epoch:   832 \t Cost: 9.662e+03 \t W: 41.26 \t b: 62.41\n",
      "Epoch:   833 \t Cost: 9.658e+03 \t W: 41.25 \t b: 62.47\n",
      "Epoch:   834 \t Cost: 9.654e+03 \t W: 41.24 \t b: 62.53\n",
      "Epoch:   835 \t Cost:  9.65e+03 \t W: 41.23 \t b: 62.59\n",
      "Epoch:   836 \t Cost: 9.646e+03 \t W: 41.23 \t b: 62.65\n",
      "Epoch:   837 \t Cost: 9.642e+03 \t W: 41.22 \t b: 62.72\n",
      "Epoch:   838 \t Cost: 9.638e+03 \t W: 41.21 \t b: 62.78\n",
      "Epoch:   839 \t Cost: 9.634e+03 \t W:  41.2 \t b: 62.84\n",
      "Epoch:   840 \t Cost: 9.631e+03 \t W: 41.19 \t b:  62.9\n",
      "Epoch:   841 \t Cost: 9.627e+03 \t W: 41.19 \t b: 62.96\n",
      "Epoch:   842 \t Cost: 9.623e+03 \t W: 41.18 \t b: 63.02\n",
      "Epoch:   843 \t Cost: 9.619e+03 \t W: 41.17 \t b: 63.09\n",
      "Epoch:   844 \t Cost: 9.615e+03 \t W: 41.16 \t b: 63.15\n",
      "Epoch:   845 \t Cost: 9.611e+03 \t W: 41.15 \t b: 63.21\n",
      "Epoch:   846 \t Cost: 9.607e+03 \t W: 41.15 \t b: 63.27\n",
      "Epoch:   847 \t Cost: 9.604e+03 \t W: 41.14 \t b: 63.33\n",
      "Epoch:   848 \t Cost:   9.6e+03 \t W: 41.13 \t b: 63.39\n",
      "Epoch:   849 \t Cost: 9.596e+03 \t W: 41.12 \t b: 63.45\n",
      "Epoch:   850 \t Cost: 9.592e+03 \t W: 41.11 \t b: 63.52\n",
      "Epoch:   851 \t Cost: 9.588e+03 \t W: 41.11 \t b: 63.58\n",
      "Epoch:   852 \t Cost: 9.584e+03 \t W:  41.1 \t b: 63.64\n",
      "Epoch:   853 \t Cost:  9.58e+03 \t W: 41.09 \t b:  63.7\n",
      "Epoch:   854 \t Cost: 9.577e+03 \t W: 41.08 \t b: 63.76\n",
      "Epoch:   855 \t Cost: 9.573e+03 \t W: 41.08 \t b: 63.82\n",
      "Epoch:   856 \t Cost: 9.569e+03 \t W: 41.07 \t b: 63.89\n",
      "Epoch:   857 \t Cost: 9.565e+03 \t W: 41.06 \t b: 63.95\n",
      "Epoch:   858 \t Cost: 9.561e+03 \t W: 41.05 \t b: 64.01\n",
      "Epoch:   859 \t Cost: 9.557e+03 \t W: 41.04 \t b: 64.07\n",
      "Epoch:   860 \t Cost: 9.554e+03 \t W: 41.04 \t b: 64.13\n",
      "Epoch:   861 \t Cost:  9.55e+03 \t W: 41.03 \t b: 64.19\n",
      "Epoch:   862 \t Cost: 9.546e+03 \t W: 41.02 \t b: 64.25\n",
      "Epoch:   863 \t Cost: 9.542e+03 \t W: 41.01 \t b: 64.31\n",
      "Epoch:   864 \t Cost: 9.538e+03 \t W:  41.0 \t b: 64.38\n",
      "Epoch:   865 \t Cost: 9.534e+03 \t W:  41.0 \t b: 64.44\n",
      "Epoch:   866 \t Cost: 9.531e+03 \t W: 40.99 \t b:  64.5\n",
      "Epoch:   867 \t Cost: 9.527e+03 \t W: 40.98 \t b: 64.56\n",
      "Epoch:   868 \t Cost: 9.523e+03 \t W: 40.97 \t b: 64.62\n",
      "Epoch:   869 \t Cost: 9.519e+03 \t W: 40.97 \t b: 64.68\n",
      "Epoch:   870 \t Cost: 9.515e+03 \t W: 40.96 \t b: 64.74\n",
      "Epoch:   871 \t Cost: 9.512e+03 \t W: 40.95 \t b: 64.81\n",
      "Epoch:   872 \t Cost: 9.508e+03 \t W: 40.94 \t b: 64.87\n",
      "Epoch:   873 \t Cost: 9.504e+03 \t W: 40.93 \t b: 64.93\n",
      "Epoch:   874 \t Cost:   9.5e+03 \t W: 40.93 \t b: 64.99\n",
      "Epoch:   875 \t Cost: 9.496e+03 \t W: 40.92 \t b: 65.05\n",
      "Epoch:   876 \t Cost: 9.493e+03 \t W: 40.91 \t b: 65.11\n",
      "Epoch:   877 \t Cost: 9.489e+03 \t W:  40.9 \t b: 65.17\n",
      "Epoch:   878 \t Cost: 9.485e+03 \t W: 40.89 \t b: 65.23\n",
      "Epoch:   879 \t Cost: 9.481e+03 \t W: 40.89 \t b:  65.3\n",
      "Epoch:   880 \t Cost: 9.477e+03 \t W: 40.88 \t b: 65.36\n",
      "Epoch:   881 \t Cost: 9.474e+03 \t W: 40.87 \t b: 65.42\n",
      "Epoch:   882 \t Cost:  9.47e+03 \t W: 40.86 \t b: 65.48\n",
      "Epoch:   883 \t Cost: 9.466e+03 \t W: 40.86 \t b: 65.54\n",
      "Epoch:   884 \t Cost: 9.462e+03 \t W: 40.85 \t b:  65.6\n",
      "Epoch:   885 \t Cost: 9.458e+03 \t W: 40.84 \t b: 65.66\n",
      "Epoch:   886 \t Cost: 9.455e+03 \t W: 40.83 \t b: 65.72\n",
      "Epoch:   887 \t Cost: 9.451e+03 \t W: 40.82 \t b: 65.78\n",
      "Epoch:   888 \t Cost: 9.447e+03 \t W: 40.82 \t b: 65.85\n",
      "Epoch:   889 \t Cost: 9.443e+03 \t W: 40.81 \t b: 65.91\n",
      "Epoch:   890 \t Cost: 9.439e+03 \t W:  40.8 \t b: 65.97\n",
      "Epoch:   891 \t Cost: 9.436e+03 \t W: 40.79 \t b: 66.03\n",
      "Epoch:   892 \t Cost: 9.432e+03 \t W: 40.79 \t b: 66.09\n",
      "Epoch:   893 \t Cost: 9.428e+03 \t W: 40.78 \t b: 66.15\n",
      "Epoch:   894 \t Cost: 9.424e+03 \t W: 40.77 \t b: 66.21\n",
      "Epoch:   895 \t Cost:  9.42e+03 \t W: 40.76 \t b: 66.27\n",
      "Epoch:   896 \t Cost: 9.417e+03 \t W: 40.75 \t b: 66.33\n",
      "Epoch:   897 \t Cost: 9.413e+03 \t W: 40.75 \t b: 66.39\n",
      "Epoch:   898 \t Cost: 9.409e+03 \t W: 40.74 \t b: 66.46\n",
      "Epoch:   899 \t Cost: 9.405e+03 \t W: 40.73 \t b: 66.52\n",
      "Epoch:   900 \t Cost: 9.402e+03 \t W: 40.72 \t b: 66.58\n",
      "Epoch:   901 \t Cost: 9.398e+03 \t W: 40.71 \t b: 66.64\n",
      "Epoch:   902 \t Cost: 9.394e+03 \t W: 40.71 \t b:  66.7\n",
      "Epoch:   903 \t Cost:  9.39e+03 \t W:  40.7 \t b: 66.76\n",
      "Epoch:   904 \t Cost: 9.387e+03 \t W: 40.69 \t b: 66.82\n",
      "Epoch:   905 \t Cost: 9.383e+03 \t W: 40.68 \t b: 66.88\n",
      "Epoch:   906 \t Cost: 9.379e+03 \t W: 40.68 \t b: 66.94\n",
      "Epoch:   907 \t Cost: 9.375e+03 \t W: 40.67 \t b:  67.0\n",
      "Epoch:   908 \t Cost: 9.371e+03 \t W: 40.66 \t b: 67.06\n",
      "Epoch:   909 \t Cost: 9.368e+03 \t W: 40.65 \t b: 67.12\n",
      "Epoch:   910 \t Cost: 9.364e+03 \t W: 40.64 \t b: 67.19\n",
      "Epoch:   911 \t Cost:  9.36e+03 \t W: 40.64 \t b: 67.25\n",
      "Epoch:   912 \t Cost: 9.356e+03 \t W: 40.63 \t b: 67.31\n",
      "Epoch:   913 \t Cost: 9.353e+03 \t W: 40.62 \t b: 67.37\n",
      "Epoch:   914 \t Cost: 9.349e+03 \t W: 40.61 \t b: 67.43\n",
      "Epoch:   915 \t Cost: 9.345e+03 \t W: 40.61 \t b: 67.49\n",
      "Epoch:   916 \t Cost: 9.341e+03 \t W:  40.6 \t b: 67.55\n",
      "Epoch:   917 \t Cost: 9.338e+03 \t W: 40.59 \t b: 67.61\n",
      "Epoch:   918 \t Cost: 9.334e+03 \t W: 40.58 \t b: 67.67\n",
      "Epoch:   919 \t Cost:  9.33e+03 \t W: 40.57 \t b: 67.73\n",
      "Epoch:   920 \t Cost: 9.326e+03 \t W: 40.57 \t b: 67.79\n",
      "Epoch:   921 \t Cost: 9.323e+03 \t W: 40.56 \t b: 67.85\n",
      "Epoch:   922 \t Cost: 9.319e+03 \t W: 40.55 \t b: 67.91\n",
      "Epoch:   923 \t Cost: 9.315e+03 \t W: 40.54 \t b: 67.97\n",
      "Epoch:   924 \t Cost: 9.312e+03 \t W: 40.54 \t b: 68.04\n",
      "Epoch:   925 \t Cost: 9.308e+03 \t W: 40.53 \t b:  68.1\n",
      "Epoch:   926 \t Cost: 9.304e+03 \t W: 40.52 \t b: 68.16\n",
      "Epoch:   927 \t Cost:   9.3e+03 \t W: 40.51 \t b: 68.22\n",
      "Epoch:   928 \t Cost: 9.297e+03 \t W:  40.5 \t b: 68.28\n",
      "Epoch:   929 \t Cost: 9.293e+03 \t W:  40.5 \t b: 68.34\n",
      "Epoch:   930 \t Cost: 9.289e+03 \t W: 40.49 \t b:  68.4\n",
      "Epoch:   931 \t Cost: 9.285e+03 \t W: 40.48 \t b: 68.46\n",
      "Epoch:   932 \t Cost: 9.282e+03 \t W: 40.47 \t b: 68.52\n",
      "Epoch:   933 \t Cost: 9.278e+03 \t W: 40.47 \t b: 68.58\n",
      "Epoch:   934 \t Cost: 9.274e+03 \t W: 40.46 \t b: 68.64\n",
      "Epoch:   935 \t Cost: 9.271e+03 \t W: 40.45 \t b:  68.7\n",
      "Epoch:   936 \t Cost: 9.267e+03 \t W: 40.44 \t b: 68.76\n",
      "Epoch:   937 \t Cost: 9.263e+03 \t W: 40.43 \t b: 68.82\n",
      "Epoch:   938 \t Cost: 9.259e+03 \t W: 40.43 \t b: 68.88\n",
      "Epoch:   939 \t Cost: 9.256e+03 \t W: 40.42 \t b: 68.94\n",
      "Epoch:   940 \t Cost: 9.252e+03 \t W: 40.41 \t b:  69.0\n",
      "Epoch:   941 \t Cost: 9.248e+03 \t W:  40.4 \t b: 69.06\n",
      "Epoch:   942 \t Cost: 9.245e+03 \t W:  40.4 \t b: 69.12\n",
      "Epoch:   943 \t Cost: 9.241e+03 \t W: 40.39 \t b: 69.18\n",
      "Epoch:   944 \t Cost: 9.237e+03 \t W: 40.38 \t b: 69.25\n",
      "Epoch:   945 \t Cost: 9.233e+03 \t W: 40.37 \t b: 69.31\n",
      "Epoch:   946 \t Cost:  9.23e+03 \t W: 40.37 \t b: 69.37\n",
      "Epoch:   947 \t Cost: 9.226e+03 \t W: 40.36 \t b: 69.43\n",
      "Epoch:   948 \t Cost: 9.222e+03 \t W: 40.35 \t b: 69.49\n",
      "Epoch:   949 \t Cost: 9.219e+03 \t W: 40.34 \t b: 69.55\n",
      "Epoch:   950 \t Cost: 9.215e+03 \t W: 40.33 \t b: 69.61\n",
      "Epoch:   951 \t Cost: 9.211e+03 \t W: 40.33 \t b: 69.67\n",
      "Epoch:   952 \t Cost: 9.208e+03 \t W: 40.32 \t b: 69.73\n",
      "Epoch:   953 \t Cost: 9.204e+03 \t W: 40.31 \t b: 69.79\n",
      "Epoch:   954 \t Cost:   9.2e+03 \t W:  40.3 \t b: 69.85\n",
      "Epoch:   955 \t Cost: 9.196e+03 \t W:  40.3 \t b: 69.91\n",
      "Epoch:   956 \t Cost: 9.193e+03 \t W: 40.29 \t b: 69.97\n",
      "Epoch:   957 \t Cost: 9.189e+03 \t W: 40.28 \t b: 70.03\n",
      "Epoch:   958 \t Cost: 9.185e+03 \t W: 40.27 \t b: 70.09\n",
      "Epoch:   959 \t Cost: 9.182e+03 \t W: 40.26 \t b: 70.15\n",
      "Epoch:   960 \t Cost: 9.178e+03 \t W: 40.26 \t b: 70.21\n",
      "Epoch:   961 \t Cost: 9.174e+03 \t W: 40.25 \t b: 70.27\n",
      "Epoch:   962 \t Cost: 9.171e+03 \t W: 40.24 \t b: 70.33\n",
      "Epoch:   963 \t Cost: 9.167e+03 \t W: 40.23 \t b: 70.39\n",
      "Epoch:   964 \t Cost: 9.163e+03 \t W: 40.23 \t b: 70.45\n",
      "Epoch:   965 \t Cost:  9.16e+03 \t W: 40.22 \t b: 70.51\n",
      "Epoch:   966 \t Cost: 9.156e+03 \t W: 40.21 \t b: 70.57\n",
      "Epoch:   967 \t Cost: 9.152e+03 \t W:  40.2 \t b: 70.63\n",
      "Epoch:   968 \t Cost: 9.149e+03 \t W:  40.2 \t b: 70.69\n",
      "Epoch:   969 \t Cost: 9.145e+03 \t W: 40.19 \t b: 70.75\n",
      "Epoch:   970 \t Cost: 9.141e+03 \t W: 40.18 \t b: 70.81\n",
      "Epoch:   971 \t Cost: 9.138e+03 \t W: 40.17 \t b: 70.87\n",
      "Epoch:   972 \t Cost: 9.134e+03 \t W: 40.16 \t b: 70.93\n",
      "Epoch:   973 \t Cost:  9.13e+03 \t W: 40.16 \t b: 70.99\n",
      "Epoch:   974 \t Cost: 9.127e+03 \t W: 40.15 \t b: 71.05\n",
      "Epoch:   975 \t Cost: 9.123e+03 \t W: 40.14 \t b: 71.11\n",
      "Epoch:   976 \t Cost: 9.119e+03 \t W: 40.13 \t b: 71.17\n",
      "Epoch:   977 \t Cost: 9.116e+03 \t W: 40.13 \t b: 71.23\n",
      "Epoch:   978 \t Cost: 9.112e+03 \t W: 40.12 \t b: 71.29\n",
      "Epoch:   979 \t Cost: 9.108e+03 \t W: 40.11 \t b: 71.35\n",
      "Epoch:   980 \t Cost: 9.105e+03 \t W:  40.1 \t b: 71.41\n",
      "Epoch:   981 \t Cost: 9.101e+03 \t W:  40.1 \t b: 71.47\n",
      "Epoch:   982 \t Cost: 9.097e+03 \t W: 40.09 \t b: 71.53\n",
      "Epoch:   983 \t Cost: 9.094e+03 \t W: 40.08 \t b: 71.59\n",
      "Epoch:   984 \t Cost:  9.09e+03 \t W: 40.07 \t b: 71.65\n",
      "Epoch:   985 \t Cost: 9.087e+03 \t W: 40.06 \t b: 71.71\n",
      "Epoch:   986 \t Cost: 9.083e+03 \t W: 40.06 \t b: 71.77\n",
      "Epoch:   987 \t Cost: 9.079e+03 \t W: 40.05 \t b: 71.83\n",
      "Epoch:   988 \t Cost: 9.076e+03 \t W: 40.04 \t b: 71.89\n",
      "Epoch:   989 \t Cost: 9.072e+03 \t W: 40.03 \t b: 71.95\n",
      "Epoch:   990 \t Cost: 9.068e+03 \t W: 40.03 \t b: 72.01\n",
      "Epoch:   991 \t Cost: 9.065e+03 \t W: 40.02 \t b: 72.07\n",
      "Epoch:   992 \t Cost: 9.061e+03 \t W: 40.01 \t b: 72.13\n",
      "Epoch:   993 \t Cost: 9.057e+03 \t W:  40.0 \t b: 72.19\n",
      "Epoch:   994 \t Cost: 9.054e+03 \t W:  40.0 \t b: 72.25\n",
      "Epoch:   995 \t Cost:  9.05e+03 \t W: 39.99 \t b: 72.31\n",
      "Epoch:   996 \t Cost: 9.047e+03 \t W: 39.98 \t b: 72.37\n",
      "Epoch:   997 \t Cost: 9.043e+03 \t W: 39.97 \t b: 72.43\n",
      "Epoch:   998 \t Cost: 9.039e+03 \t W: 39.97 \t b: 72.49\n",
      "Epoch:   999 \t Cost: 9.036e+03 \t W: 39.96 \t b: 72.55\n",
      "Epoch:  1000 \t Cost: 9.032e+03 \t W: 39.95 \t b: 72.61\n",
      "Optimization Finished!\n",
      "Final training cost: 9032.049 W: 39.949917 b: 72.60689 \n",
      "\n"
     ]
    },
    {
     "data": {
      "image/png": "[encoded data removed]",
      "text/plain": [
       "<Figure size 640x480 with 1 Axes>"
      ]
     },
     "metadata": {},
     "output_type": "display_data"
    },
    {
     "name": "stdout",
     "output_type": "stream",
     "text": [
      "Final testing cost: 10044.485\n",
      "Absolute mean square loss difference: 1012.4365\n"
     ]
    },
    {
     "data": {
      "image/png": "[encoded data removed]",
      "text/plain": [
       "<Figure size 640x480 with 1 Axes>"
      ]
     },
     "metadata": {},
     "output_type": "display_data"
    }
   ],
   "source": [
    "# Launch the graph\n",
    "with tf.Session() as sess:\n",
    "\t# Load initialized variables in current session\n",
    "\tsess.run(init)\n",
    "\n",
    "\t# Fit all training data\n",
    "\tfor epoch in range(training_epochs):\n",
    "\n",
    "\t\t# perform gradient descent step\n",
    "\t\tsess.run(optimizer, feed_dict={X: train_X, y: train_y})\n",
    "\t\t\n",
    "\t\t# Display logs per epoch step\n",
    "\t\tif (epoch+1) % display_step == 0:\n",
    "\t\t\tc = sess.run(cost, feed_dict={X: train_X, y: train_y})\n",
    "\t\t\tprint(\"Epoch:{0:6} \\t Cost:{1:10.4} \\t W:{2:6.4} \\t b:{3:6.4}\".\n",
    "\t\t\t\tformat(epoch+1, c, sess.run(W), sess.run(b)))\n",
    "\t\t\t\n",
    "\t# Print final parameter values\n",
    "\tprint(\"Optimization Finished!\")\n",
    "\ttraining_cost = sess.run(cost, feed_dict={X: train_X, y: train_y})\n",
    "\tprint(\"Final training cost:\", training_cost, \"W:\", sess.run(W), \"b:\", \n",
    "\t\tsess.run(b), '\\n')\n",
    "\t\n",
    "\t# Graphic display\n",
    "\tplt.plot(train_X, train_y, 'ro', label='Original data')\n",
    "\tplt.plot(train_X, sess.run(W) * train_X + sess.run(b), label='Fitted line')\n",
    "\tplt.legend()\n",
    "\tplt.show()\n",
    "\n",
    "\t# Testing the model\n",
    "\ttesting_cost = sess.run(tf.reduce_sum(tf.square(linear_model - y)) / (2 * test_X.shape[0]),\n",
    "\t\t\t\t\t\t\tfeed_dict={X: test_X, y: test_y})\n",
    "\t\n",
    "\tprint(\"Final testing cost:\", testing_cost)\n",
    "\tprint(\"Absolute mean square loss difference:\", abs(training_cost - testing_cost))\n",
    "\n",
    "\t# Display fitted line on test data\n",
    "\tplt.plot(test_X, test_y, 'bo', label='Testing data')\n",
    "\tplt.plot(train_X, sess.run(W) * train_X + sess.run(b), label='Fitted line')\n",
    "\tplt.legend()\n",
    "\tplt.show()\n",
    "\n"
   ]
  },
  {
   "cell_type": "markdown",
   "metadata": {},
   "source": [
    "Prophet Teste"
   ]
  },
  {
   "cell_type": "code",
   "execution_count": 10,
   "metadata": {},
   "outputs": [
    {
     "name": "stderr",
     "output_type": "stream",
     "text": [
      "C:\\Users\\t3745548\\AppData\\Roaming\\Python\\Python311\\site-packages\\tqdm\\auto.py:21: TqdmWarning: IProgress not found. Please update jupyter and ipywidgets. See https://ipywidgets.readthedocs.io/en/stable/user_install.html\n",
      "  from .autonotebook import tqdm as notebook_tqdm\n"
     ]
    },
    {
     "name": "stdout",
     "output_type": "stream",
     "text": [
      "           ds      y\n",
      "0  2023-01-01  11520\n",
      "1  2023-02-01  12400\n",
      "2  2023-03-01  13040\n",
      "3  2023-04-01  10640\n",
      "4  2023-05-01  10640\n",
      "5  2023-06-01   9280\n",
      "6  2023-07-01   9280\n",
      "7  2023-08-01  10719\n",
      "8  2023-09-01  11360\n",
      "9  2023-10-01  11920\n",
      "10 2023-11-01  12880\n",
      "11 2023-12-01  12880\n",
      "12 2024-01-01  13440\n",
      "13 2024-02-01  12000\n",
      "14 2024-03-01  12320\n",
      "15 2024-04-01  12160\n",
      "16 2024-05-01  11840\n",
      "17 2024-06-01  11120\n",
      "18 2024-07-01  10080\n",
      "19 2024-08-01  10480\n",
      "20 2024-09-01  10080\n",
      "21 2024-10-01  11520\n",
      "22 2024-11-01  10960\n",
      "23 2024-12-01  11629\n"
     ]
    },
    {
     "data": {
      "text/plain": [
       "<Axes: xlabel='ds'>"
      ]
     },
     "execution_count": 10,
     "metadata": {},
     "output_type": "execute_result"
    },
    {
     "data": {
      "image/png": "[encoded data removed]",
      "text/plain": [
       "<Figure size 1200x600 with 1 Axes>"
      ]
     },
     "metadata": {},
     "output_type": "display_data"
    }
   ],
   "source": [
    "from prophet import Prophet\n",
    "import pandas as pd\n",
    "import warnings\n",
    "warnings.filterwarnings('ignore')\n",
    "m = Prophet()\n",
    "df = pd.read_csv('base_teste.csv')\n",
    "df['Date']=pd.to_datetime(df['Date'])\n",
    "df.columns = ['ds', 'y']\n",
    "df.head()\n",
    "print(df)\n",
    "aux = df['y']\n",
    "aux.index = df['ds']\n",
    "aux.plot(figsize=(12, 6))"
   ]
  },
  {
   "cell_type": "code",
   "execution_count": 11,
   "metadata": {},
   "outputs": [
    {
     "name": "stdout",
     "output_type": "stream",
     "text": [
      "treina\n",
      "           ds      y\n",
      "0  2023-01-01  11520\n",
      "1  2023-02-01  12400\n",
      "2  2023-03-01  13040\n",
      "3  2023-04-01  10640\n",
      "4  2023-05-01  10640\n",
      "5  2023-06-01   9280\n",
      "6  2023-07-01   9280\n",
      "7  2023-08-01  10719\n",
      "8  2023-09-01  11360\n",
      "9  2023-10-01  11920\n",
      "10 2023-11-01  12880\n",
      "11 2023-12-01  12880\n",
      "teste\n",
      "           ds      y\n",
      "12 2024-01-01  13440\n",
      "13 2024-02-01  12000\n",
      "14 2024-03-01  12320\n",
      "15 2024-04-01  12160\n",
      "16 2024-05-01  11840\n",
      "17 2024-06-01  11120\n",
      "18 2024-07-01  10080\n",
      "19 2024-08-01  10480\n",
      "20 2024-09-01  10080\n",
      "21 2024-10-01  11520\n",
      "22 2024-11-01  10960\n",
      "23 2024-12-01  11629\n"
     ]
    }
   ],
   "source": [
    "xtreina = df.iloc[:-12]\n",
    "xteste = df.iloc[-12:]\n",
    "print(\"treina\")\n",
    "print(xtreina)\n",
    "print(\"teste\")\n",
    "print(xteste)"
   ]
  },
  {
   "cell_type": "markdown",
   "metadata": {},
   "source": [
    "Prophet exemplo"
   ]
  },
  {
   "cell_type": "code",
   "execution_count": 12,
   "metadata": {
    "collapsed": true,
    "jupyter": {
     "outputs_hidden": true
    },
    "scrolled": true
   },
   "outputs": [
    {
     "name": "stderr",
     "output_type": "stream",
     "text": [
      "15:54:46 - cmdstanpy - INFO - Chain [1] start processing\n",
      "15:54:50 - cmdstanpy - INFO - Chain [1] done processing\n"
     ]
    },
    {
     "name": "stdout",
     "output_type": "stream",
     "text": [
      "           ds         trend    yhat_lower    yhat_upper   trend_lower  \\\n",
      "0  2024-01-01  11746.296897  10247.566001  13313.889694  11746.289876   \n",
      "1  2024-02-01  11803.321537  10279.992756  13332.759770  11803.299719   \n",
      "2  2024-03-01  11856.667168  10258.450669  13406.942262  11856.625500   \n",
      "3  2024-04-01  11913.691808  10452.701122  13375.712851  11913.623646   \n",
      "4  2024-05-01  11968.876943  10368.938695  13467.351669  11968.777883   \n",
      "5  2024-06-01  12025.901583  10459.378526  13439.788316  12025.764683   \n",
      "6  2024-07-01  12081.086719  10503.471295  13642.354401  12080.905713   \n",
      "7  2024-08-01  12138.111358  10441.440114  13601.106779  12137.884759   \n",
      "8  2024-09-01  12195.135998  10419.529615  13720.214382  12194.867290   \n",
      "9  2024-10-01  12250.321134  10587.153679  13920.527567  12250.008230   \n",
      "10 2024-11-01  12307.345773  10790.632744  13887.978083  12306.985987   \n",
      "11 2024-12-01  12362.530909  10808.432747  13887.245241  12362.120439   \n",
      "\n",
      "     trend_upper  additive_terms  additive_terms_lower  additive_terms_upper  \\\n",
      "0   11746.303989             0.0                   0.0                   0.0   \n",
      "1   11803.343929             0.0                   0.0                   0.0   \n",
      "2   11856.710955             0.0                   0.0                   0.0   \n",
      "3   11913.762688             0.0                   0.0                   0.0   \n",
      "4   11968.976774             0.0                   0.0                   0.0   \n",
      "5   12026.037392             0.0                   0.0                   0.0   \n",
      "6   12081.258030             0.0                   0.0                   0.0   \n",
      "7   12138.329295             0.0                   0.0                   0.0   \n",
      "8   12195.393963             0.0                   0.0                   0.0   \n",
      "9   12250.629078             0.0                   0.0                   0.0   \n",
      "10  12307.700583             0.0                   0.0                   0.0   \n",
      "11  12362.925783             0.0                   0.0                   0.0   \n",
      "\n",
      "    multiplicative_terms  multiplicative_terms_lower  \\\n",
      "0                    0.0                         0.0   \n",
      "1                    0.0                         0.0   \n",
      "2                    0.0                         0.0   \n",
      "3                    0.0                         0.0   \n",
      "4                    0.0                         0.0   \n",
      "5                    0.0                         0.0   \n",
      "6                    0.0                         0.0   \n",
      "7                    0.0                         0.0   \n",
      "8                    0.0                         0.0   \n",
      "9                    0.0                         0.0   \n",
      "10                   0.0                         0.0   \n",
      "11                   0.0                         0.0   \n",
      "\n",
      "    multiplicative_terms_upper          yhat  \n",
      "0                          0.0  11746.296897  \n",
      "1                          0.0  11803.321537  \n",
      "2                          0.0  11856.667168  \n",
      "3                          0.0  11913.691808  \n",
      "4                          0.0  11968.876943  \n",
      "5                          0.0  12025.901583  \n",
      "6                          0.0  12081.086719  \n",
      "7                          0.0  12138.111358  \n",
      "8                          0.0  12195.135998  \n",
      "9                          0.0  12250.321134  \n",
      "10                         0.0  12307.345773  \n",
      "11                         0.0  12362.530909  \n"
     ]
    },
    {
     "data": {
      "image/png": "[encoded data removed]",
      "text/plain": [
       "<Figure size 1000x600 with 1 Axes>"
      ]
     },
     "metadata": {},
     "output_type": "display_data"
    }
   ],
   "source": [
    "df.set_index('ds').plot\n",
    "m = Prophet().fit(xtreina)\n",
    "future = m.make_future_dataframe(periods=360,include_history = False)\n",
    "yresp=m.predict(xteste)\n",
    "m.plot(yresp)\n",
    "print(yresp)\n",
    "# tabelaAnalise[['ds', 'yhat', 'yhat_lower', 'yhat_upper']].tail()\n",
    "# fig1 = m.plot(tabelaAnalise)\n",
    "# Tabnova = tabelaAnalise['trend']\n",
    "# Tabnova.index = tabelaAnalise[\"ds\"]\n",
    "# Tabnova=Tabnova.resample(\"ME\").sum()\n",
    "# print(Tabnova)\n",
    "# Tabnova.plot(figsize=(12, 6))\n",
    "# Tabnova = tabelaAnalise[['ds','yhat_lower']].copy()\n"
   ]
  },
  {
   "cell_type": "code",
   "execution_count": 13,
   "metadata": {},
   "outputs": [
    {
     "name": "stderr",
     "output_type": "stream",
     "text": [
      "Importing plotly failed. Interactive plots will not work.\n",
      "Importing plotly failed. Interactive plots will not work.\n"
     ]
    },
    {
     "name": "stdout",
     "output_type": "stream",
     "text": [
      "Training: |          | 0/? [00:41<?, ?it/s, v_num=0, MAE_val=2.13e+3, RMSE_val=2.19e+3, Loss_val=0.337, RegLoss_val=0.000, train_loss=9.13e-5, reg_loss=0.000, MAE=22.20, RMSE=35.10, Loss=8.94e-5, RegLoss=0.000]  \n",
      "Predicting DataLoader 0: 100%|██████████| 1/1 [00:00<00:00, 130.23it/s]"
     ]
    },
    {
     "name": "stderr",
     "output_type": "stream",
     "text": [
      "ERROR - (NP.plotly.plot) - plotly-resampler is not installed. Please install it to use the resampler.\n"
     ]
    },
    {
     "name": "stdout",
     "output_type": "stream",
     "text": [
      "\n"
     ]
    },
    {
     "data": {
      "application/vnd.plotly.v1+json": {
       "config": {
        "plotlyServerURL": "https://plot.ly"
       },
       "data": [
        {
         "fill": "none",
         "line": {
          "color": "rgba(45, 146, 255, 1.0)",
          "width": 2
         },
         "mode": "lines",
         "name": "yhat1",
         "type": "scatter",
         "x": [
          "2023-01-01T00:00:00",
          "2023-02-01T00:00:00",
          "2023-03-01T00:00:00",
          "2023-04-01T00:00:00",
          "2023-05-01T00:00:00",
          "2023-06-01T00:00:00",
          "2023-07-01T00:00:00",
          "2023-08-01T00:00:00",
          "2023-09-01T00:00:00",
          "2023-10-01T00:00:00",
          "2023-11-01T00:00:00",
          "2023-12-01T00:00:00",
          "2024-01-01T00:00:00",
          "2024-02-01T00:00:00",
          "2024-03-01T00:00:00",
          "2024-04-01T00:00:00",
          "2024-05-01T00:00:00",
          "2024-06-01T00:00:00",
          "2024-07-01T00:00:00",
          "2024-08-01T00:00:00",
          "2024-09-01T00:00:00",
          "2024-10-01T00:00:00",
          "2024-11-01T00:00:00",
          "2024-12-01T00:00:00",
          "2025-01-01T00:00:00",
          "2025-02-01T00:00:00",
          "2025-03-01T00:00:00",
          "2025-04-01T00:00:00",
          "2025-05-01T00:00:00",
          "2025-06-01T00:00:00",
          "2025-07-01T00:00:00",
          "2025-08-01T00:00:00",
          "2025-09-01T00:00:00",
          "2025-10-01T00:00:00",
          "2025-11-01T00:00:00",
          "2025-12-01T00:00:00"
         ],
         "y": [
          11530.48828125,
          12393.7822265625,
          13050.46484375,
          10763.904296875,
          10649.3837890625,
          9272.873046875,
          9168.396484375,
          10717.8134765625,
          11363.8955078125,
          11917.341796875,
          12882.015625,
          12881.3955078125,
          13433.546875,
          12005.3994140625,
          12316.0849609375,
          12084.7255859375,
          11838.5224609375,
          11125.7734375,
          10147.5234375,
          10480.6669921875,
          12376.03125,
          14360.83203125,
          12292.2900390625,
          13664.4140625,
          14814.34765625,
          14025.5595703125,
          13964.423828125,
          13197.6005859375,
          11499.376953125,
          10768.5830078125,
          11531.265625,
          11233.37890625,
          14496.384765625,
          15661.0234375,
          14176.4599609375,
          15731.197265625
         ]
        },
        {
         "marker": {
          "color": "black",
          "size": 4
         },
         "mode": "markers",
         "name": "Actual",
         "type": "scatter",
         "x": [
          "2023-01-01T00:00:00",
          "2023-02-01T00:00:00",
          "2023-03-01T00:00:00",
          "2023-04-01T00:00:00",
          "2023-05-01T00:00:00",
          "2023-06-01T00:00:00",
          "2023-07-01T00:00:00",
          "2023-08-01T00:00:00",
          "2023-09-01T00:00:00",
          "2023-10-01T00:00:00",
          "2023-11-01T00:00:00",
          "2023-12-01T00:00:00",
          "2024-01-01T00:00:00",
          "2024-02-01T00:00:00",
          "2024-03-01T00:00:00",
          "2024-04-01T00:00:00",
          "2024-05-01T00:00:00",
          "2024-06-01T00:00:00",
          "2024-07-01T00:00:00",
          "2024-08-01T00:00:00",
          "2024-09-01T00:00:00",
          "2024-10-01T00:00:00",
          "2024-11-01T00:00:00",
          "2024-12-01T00:00:00",
          "2025-01-01T00:00:00",
          "2025-02-01T00:00:00",
          "2025-03-01T00:00:00",
          "2025-04-01T00:00:00",
          "2025-05-01T00:00:00",
          "2025-06-01T00:00:00",
          "2025-07-01T00:00:00",
          "2025-08-01T00:00:00",
          "2025-09-01T00:00:00",
          "2025-10-01T00:00:00",
          "2025-11-01T00:00:00",
          "2025-12-01T00:00:00"
         ],
         "y": [
          11520,
          12400,
          13040,
          10640,
          10640,
          9280,
          9280,
          10719,
          11360,
          11920,
          12880,
          12880,
          13440,
          12000,
          12320,
          12160,
          11840,
          11120,
          10080,
          10480,
          10080,
          11520,
          10960,
          11629,
          null,
          null,
          null,
          null,
          null,
          null,
          null,
          null,
          null,
          null,
          null,
          null
         ]
        }
       ],
       "layout": {
        "autosize": true,
        "font": {
         "size": 10
        },
        "height": 420,
        "hovermode": "x unified",
        "margin": {
         "b": 0,
         "l": 0,
         "pad": 0,
         "r": 10,
         "t": 10
        },
        "showlegend": true,
        "template": {
         "data": {
          "bar": [
           {
            "error_x": {
             "color": "#2a3f5f"
            },
            "error_y": {
             "color": "#2a3f5f"
            },
            "marker": {
             "line": {
              "color": "white",
              "width": 0.5
             },
             "pattern": {
              "fillmode": "overlay",
              "size": 10,
              "solidity": 0.2
             }
            },
            "type": "bar"
           }
          ],
          "barpolar": [
           {
            "marker": {
             "line": {
              "color": "white",
              "width": 0.5
             },
             "pattern": {
              "fillmode": "overlay",
              "size": 10,
              "solidity": 0.2
             }
            },
            "type": "barpolar"
           }
          ],
          "carpet": [
           {
            "aaxis": {
             "endlinecolor": "#2a3f5f",
             "gridcolor": "#C8D4E3",
             "linecolor": "#C8D4E3",
             "minorgridcolor": "#C8D4E3",
             "startlinecolor": "#2a3f5f"
            },
            "baxis": {
             "endlinecolor": "#2a3f5f",
             "gridcolor": "#C8D4E3",
             "linecolor": "#C8D4E3",
             "minorgridcolor": "#C8D4E3",
             "startlinecolor": "#2a3f5f"
            },
            "type": "carpet"
           }
          ],
          "choropleth": [
           {
            "colorbar": {
             "outlinewidth": 0,
             "ticks": ""
            },
            "type": "choropleth"
           }
          ],
          "contour": [
           {
            "colorbar": {
             "outlinewidth": 0,
             "ticks": ""
            },
            "colorscale": [
             [
              0,
              "#0d0887"
             ],
             [
              0.1111111111111111,
              "#46039f"
             ],
             [
              0.2222222222222222,
              "#7201a8"
             ],
             [
              0.3333333333333333,
              "#9c179e"
             ],
             [
              0.4444444444444444,
              "#bd3786"
             ],
             [
              0.5555555555555556,
              "#d8576b"
             ],
             [
              0.6666666666666666,
              "#ed7953"
             ],
             [
              0.7777777777777778,
              "#fb9f3a"
             ],
             [
              0.8888888888888888,
              "#fdca26"
             ],
             [
              1,
              "#f0f921"
             ]
            ],
            "type": "contour"
           }
          ],
          "contourcarpet": [
           {
            "colorbar": {
             "outlinewidth": 0,
             "ticks": ""
            },
            "type": "contourcarpet"
           }
          ],
          "heatmap": [
           {
            "colorbar": {
             "outlinewidth": 0,
             "ticks": ""
            },
            "colorscale": [
             [
              0,
              "#0d0887"
             ],
             [
              0.1111111111111111,
              "#46039f"
             ],
             [
              0.2222222222222222,
              "#7201a8"
             ],
             [
              0.3333333333333333,
              "#9c179e"
             ],
             [
              0.4444444444444444,
              "#bd3786"
             ],
             [
              0.5555555555555556,
              "#d8576b"
             ],
             [
              0.6666666666666666,
              "#ed7953"
             ],
             [
              0.7777777777777778,
              "#fb9f3a"
             ],
             [
              0.8888888888888888,
              "#fdca26"
             ],
             [
              1,
              "#f0f921"
             ]
            ],
            "type": "heatmap"
           }
          ],
          "heatmapgl": [
           {
            "colorbar": {
             "outlinewidth": 0,
             "ticks": ""
            },
            "colorscale": [
             [
              0,
              "#0d0887"
             ],
             [
              0.1111111111111111,
              "#46039f"
             ],
             [
              0.2222222222222222,
              "#7201a8"
             ],
             [
              0.3333333333333333,
              "#9c179e"
             ],
             [
              0.4444444444444444,
              "#bd3786"
             ],
             [
              0.5555555555555556,
              "#d8576b"
             ],
             [
              0.6666666666666666,
              "#ed7953"
             ],
             [
              0.7777777777777778,
              "#fb9f3a"
             ],
             [
              0.8888888888888888,
              "#fdca26"
             ],
             [
              1,
              "#f0f921"
             ]
            ],
            "type": "heatmapgl"
           }
          ],
          "histogram": [
           {
            "marker": {
             "pattern": {
              "fillmode": "overlay",
              "size": 10,
              "solidity": 0.2
             }
            },
            "type": "histogram"
           }
          ],
          "histogram2d": [
           {
            "colorbar": {
             "outlinewidth": 0,
             "ticks": ""
            },
            "colorscale": [
             [
              0,
              "#0d0887"
             ],
             [
              0.1111111111111111,
              "#46039f"
             ],
             [
              0.2222222222222222,
              "#7201a8"
             ],
             [
              0.3333333333333333,
              "#9c179e"
             ],
             [
              0.4444444444444444,
              "#bd3786"
             ],
             [
              0.5555555555555556,
              "#d8576b"
             ],
             [
              0.6666666666666666,
              "#ed7953"
             ],
             [
              0.7777777777777778,
              "#fb9f3a"
             ],
             [
              0.8888888888888888,
              "#fdca26"
             ],
             [
              1,
              "#f0f921"
             ]
            ],
            "type": "histogram2d"
           }
          ],
          "histogram2dcontour": [
           {
            "colorbar": {
             "outlinewidth": 0,
             "ticks": ""
            },
            "colorscale": [
             [
              0,
              "#0d0887"
             ],
             [
              0.1111111111111111,
              "#46039f"
             ],
             [
              0.2222222222222222,
              "#7201a8"
             ],
             [
              0.3333333333333333,
              "#9c179e"
             ],
             [
              0.4444444444444444,
              "#bd3786"
             ],
             [
              0.5555555555555556,
              "#d8576b"
             ],
             [
              0.6666666666666666,
              "#ed7953"
             ],
             [
              0.7777777777777778,
              "#fb9f3a"
             ],
             [
              0.8888888888888888,
              "#fdca26"
             ],
             [
              1,
              "#f0f921"
             ]
            ],
            "type": "histogram2dcontour"
           }
          ],
          "mesh3d": [
           {
            "colorbar": {
             "outlinewidth": 0,
             "ticks": ""
            },
            "type": "mesh3d"
           }
          ],
          "parcoords": [
           {
            "line": {
             "colorbar": {
              "outlinewidth": 0,
              "ticks": ""
             }
            },
            "type": "parcoords"
           }
          ],
          "pie": [
           {
            "automargin": true,
            "type": "pie"
           }
          ],
          "scatter": [
           {
            "fillpattern": {
             "fillmode": "overlay",
             "size": 10,
             "solidity": 0.2
            },
            "type": "scatter"
           }
          ],
          "scatter3d": [
           {
            "line": {
             "colorbar": {
              "outlinewidth": 0,
              "ticks": ""
             }
            },
            "marker": {
             "colorbar": {
              "outlinewidth": 0,
              "ticks": ""
             }
            },
            "type": "scatter3d"
           }
          ],
          "scattercarpet": [
           {
            "marker": {
             "colorbar": {
              "outlinewidth": 0,
              "ticks": ""
             }
            },
            "type": "scattercarpet"
           }
          ],
          "scattergeo": [
           {
            "marker": {
             "colorbar": {
              "outlinewidth": 0,
              "ticks": ""
             }
            },
            "type": "scattergeo"
           }
          ],
          "scattergl": [
           {
            "marker": {
             "colorbar": {
              "outlinewidth": 0,
              "ticks": ""
             }
            },
            "type": "scattergl"
           }
          ],
          "scattermapbox": [
           {
            "marker": {
             "colorbar": {
              "outlinewidth": 0,
              "ticks": ""
             }
            },
            "type": "scattermapbox"
           }
          ],
          "scatterpolar": [
           {
            "marker": {
             "colorbar": {
              "outlinewidth": 0,
              "ticks": ""
             }
            },
            "type": "scatterpolar"
           }
          ],
          "scatterpolargl": [
           {
            "marker": {
             "colorbar": {
              "outlinewidth": 0,
              "ticks": ""
             }
            },
            "type": "scatterpolargl"
           }
          ],
          "scatterternary": [
           {
            "marker": {
             "colorbar": {
              "outlinewidth": 0,
              "ticks": ""
             }
            },
            "type": "scatterternary"
           }
          ],
          "surface": [
           {
            "colorbar": {
             "outlinewidth": 0,
             "ticks": ""
            },
            "colorscale": [
             [
              0,
              "#0d0887"
             ],
             [
              0.1111111111111111,
              "#46039f"
             ],
             [
              0.2222222222222222,
              "#7201a8"
             ],
             [
              0.3333333333333333,
              "#9c179e"
             ],
             [
              0.4444444444444444,
              "#bd3786"
             ],
             [
              0.5555555555555556,
              "#d8576b"
             ],
             [
              0.6666666666666666,
              "#ed7953"
             ],
             [
              0.7777777777777778,
              "#fb9f3a"
             ],
             [
              0.8888888888888888,
              "#fdca26"
             ],
             [
              1,
              "#f0f921"
             ]
            ],
            "type": "surface"
           }
          ],
          "table": [
           {
            "cells": {
             "fill": {
              "color": "#EBF0F8"
             },
             "line": {
              "color": "white"
             }
            },
            "header": {
             "fill": {
              "color": "#C8D4E3"
             },
             "line": {
              "color": "white"
             }
            },
            "type": "table"
           }
          ]
         },
         "layout": {
          "annotationdefaults": {
           "arrowcolor": "#2a3f5f",
           "arrowhead": 0,
           "arrowwidth": 1
          },
          "autotypenumbers": "strict",
          "coloraxis": {
           "colorbar": {
            "outlinewidth": 0,
            "ticks": ""
           }
          },
          "colorscale": {
           "diverging": [
            [
             0,
             "#8e0152"
            ],
            [
             0.1,
             "#c51b7d"
            ],
            [
             0.2,
             "#de77ae"
            ],
            [
             0.3,
             "#f1b6da"
            ],
            [
             0.4,
             "#fde0ef"
            ],
            [
             0.5,
             "#f7f7f7"
            ],
            [
             0.6,
             "#e6f5d0"
            ],
            [
             0.7,
             "#b8e186"
            ],
            [
             0.8,
             "#7fbc41"
            ],
            [
             0.9,
             "#4d9221"
            ],
            [
             1,
             "#276419"
            ]
           ],
           "sequential": [
            [
             0,
             "#0d0887"
            ],
            [
             0.1111111111111111,
             "#46039f"
            ],
            [
             0.2222222222222222,
             "#7201a8"
            ],
            [
             0.3333333333333333,
             "#9c179e"
            ],
            [
             0.4444444444444444,
             "#bd3786"
            ],
            [
             0.5555555555555556,
             "#d8576b"
            ],
            [
             0.6666666666666666,
             "#ed7953"
            ],
            [
             0.7777777777777778,
             "#fb9f3a"
            ],
            [
             0.8888888888888888,
             "#fdca26"
            ],
            [
             1,
             "#f0f921"
            ]
           ],
           "sequentialminus": [
            [
             0,
             "#0d0887"
            ],
            [
             0.1111111111111111,
             "#46039f"
            ],
            [
             0.2222222222222222,
             "#7201a8"
            ],
            [
             0.3333333333333333,
             "#9c179e"
            ],
            [
             0.4444444444444444,
             "#bd3786"
            ],
            [
             0.5555555555555556,
             "#d8576b"
            ],
            [
             0.6666666666666666,
             "#ed7953"
            ],
            [
             0.7777777777777778,
             "#fb9f3a"
            ],
            [
             0.8888888888888888,
             "#fdca26"
            ],
            [
             1,
             "#f0f921"
            ]
           ]
          },
          "colorway": [
           "#636efa",
           "#EF553B",
           "#00cc96",
           "#ab63fa",
           "#FFA15A",
           "#19d3f3",
           "#FF6692",
           "#B6E880",
           "#FF97FF",
           "#FECB52"
          ],
          "font": {
           "color": "#2a3f5f"
          },
          "geo": {
           "bgcolor": "white",
           "lakecolor": "white",
           "landcolor": "white",
           "showlakes": true,
           "showland": true,
           "subunitcolor": "#C8D4E3"
          },
          "hoverlabel": {
           "align": "left"
          },
          "hovermode": "closest",
          "mapbox": {
           "style": "light"
          },
          "paper_bgcolor": "white",
          "plot_bgcolor": "white",
          "polar": {
           "angularaxis": {
            "gridcolor": "#EBF0F8",
            "linecolor": "#EBF0F8",
            "ticks": ""
           },
           "bgcolor": "white",
           "radialaxis": {
            "gridcolor": "#EBF0F8",
            "linecolor": "#EBF0F8",
            "ticks": ""
           }
          },
          "scene": {
           "xaxis": {
            "backgroundcolor": "white",
            "gridcolor": "#DFE8F3",
            "gridwidth": 2,
            "linecolor": "#EBF0F8",
            "showbackground": true,
            "ticks": "",
            "zerolinecolor": "#EBF0F8"
           },
           "yaxis": {
            "backgroundcolor": "white",
            "gridcolor": "#DFE8F3",
            "gridwidth": 2,
            "linecolor": "#EBF0F8",
            "showbackground": true,
            "ticks": "",
            "zerolinecolor": "#EBF0F8"
           },
           "zaxis": {
            "backgroundcolor": "white",
            "gridcolor": "#DFE8F3",
            "gridwidth": 2,
            "linecolor": "#EBF0F8",
            "showbackground": true,
            "ticks": "",
            "zerolinecolor": "#EBF0F8"
           }
          },
          "shapedefaults": {
           "line": {
            "color": "#2a3f5f"
           }
          },
          "ternary": {
           "aaxis": {
            "gridcolor": "#DFE8F3",
            "linecolor": "#A2B1C6",
            "ticks": ""
           },
           "baxis": {
            "gridcolor": "#DFE8F3",
            "linecolor": "#A2B1C6",
            "ticks": ""
           },
           "bgcolor": "white",
           "caxis": {
            "gridcolor": "#DFE8F3",
            "linecolor": "#A2B1C6",
            "ticks": ""
           }
          },
          "title": {
           "x": 0.05
          },
          "xaxis": {
           "automargin": true,
           "gridcolor": "#EBF0F8",
           "linecolor": "#EBF0F8",
           "ticks": "",
           "title": {
            "standoff": 15
           },
           "zerolinecolor": "#EBF0F8",
           "zerolinewidth": 2
          },
          "yaxis": {
           "automargin": true,
           "gridcolor": "#EBF0F8",
           "linecolor": "#EBF0F8",
           "ticks": "",
           "title": {
            "standoff": 15
           },
           "zerolinecolor": "#EBF0F8",
           "zerolinewidth": 2
          }
         }
        },
        "title": {
         "font": {
          "size": 12
         }
        },
        "width": 700,
        "xaxis": {
         "linewidth": 1.5,
         "mirror": true,
         "rangeselector": {
          "buttons": [
           {
            "count": 7,
            "label": "1w",
            "step": "day",
            "stepmode": "backward"
           },
           {
            "count": 1,
            "label": "1m",
            "step": "month",
            "stepmode": "backward"
           },
           {
            "count": 6,
            "label": "6m",
            "step": "month",
            "stepmode": "backward"
           },
           {
            "count": 1,
            "label": "1y",
            "step": "year",
            "stepmode": "backward"
           },
           {
            "step": "all"
           }
          ]
         },
         "rangeslider": {
          "visible": true
         },
         "showline": true,
         "title": {
          "text": "ds"
         },
         "type": "date"
        },
        "yaxis": {
         "linewidth": 1.5,
         "mirror": true,
         "showline": true,
         "title": {
          "text": "y"
         }
        }
       }
      }
     },
     "metadata": {},
     "output_type": "display_data"
    }
   ],
   "source": [
    "from neuralprophet import NeuralProphet, set_log_level\n",
    "import pandas as pd\n",
    "\n",
    "set_log_level(\"ERROR\")\n",
    "\n",
    "df = pd.read_csv('base_teste.csv')\n",
    "\n",
    "df =df.rename(columns={'Date':'ds','Production': 'y'}) \n",
    "df['ds']=pd.DatetimeIndex(df['ds'])\n",
    "df.head()\n",
    "# df.index = df['ds']\n",
    "# df = df.drop(columns=['ds'])\n",
    "# print(df)\n",
    "\n",
    "m = NeuralProphet(epochs=500, \n",
    "        learning_rate=0.05, \n",
    "        normalize=\"auto\",\n",
    "        n_changepoints=0,\n",
    "        yearly_seasonality=True,\n",
    "        weekly_seasonality=True,\n",
    "        daily_seasonality=True,\n",
    "        seasonality_mode=\"additive\",\n",
    "        loss_func=\"MSE\")\n",
    "\n",
    "df_train, df_val = m.split_df(df, valid_p = 0.2)\n",
    "\n",
    "metrics = m.fit(df_train, validation_df=df_val, progress=\"plot-all\")\n",
    "metrics.head(10)\n",
    "\n",
    "future = m.make_future_dataframe(df,periods=12, n_historic_predictions=len(df))\n",
    "\n",
    "forecast = m.predict(future)\n",
    "\n",
    "forecast\n",
    "\n",
    "# forecast.plot(figsize=(12, 6))\n",
    "\n",
    "m.plot(forecast)"
   ]
  },
  {
   "cell_type": "code",
   "execution_count": 14,
   "metadata": {},
   "outputs": [
    {
     "data": {
      "text/plain": [
       "Text(0.5, 1.0, 'Model Loss')"
      ]
     },
     "execution_count": 14,
     "metadata": {},
     "output_type": "execute_result"
    },
    {
     "data": {
      "image/png": "[encoded data removed]",
      "text/plain": [
       "<Figure size 2000x800 with 1 Axes>"
      ]
     },
     "metadata": {},
     "output_type": "display_data"
    }
   ],
   "source": [
    "fig, ax = plt.subplots(figsize=(20, 8))\n",
    "ax.plot(metrics[\"MAE\"], '-o', label=\"Training Loss\")  \n",
    "ax.plot(metrics[\"MAE_val\"], '-r', label=\"Validation Loss\")\n",
    "ax.legend(loc='center right', fontsize=16)\n",
    "ax.tick_params(axis='both', which='major', labelsize=20)\n",
    "ax.set_xlabel(\"Epoch\", fontsize=28)\n",
    "ax.set_ylabel(\"Loss\", fontsize=28)\n",
    "ax.set_title(\"Model Loss\", fontsize=28)"
   ]
  }
 ],
 "metadata": {
  "kernelspec": {
   "display_name": "Python 3",
   "language": "python",
   "name": "python3"
  },
  "language_info": {
   "codemirror_mode": {
    "name": "ipython",
    "version": 3
   },
   "file_extension": ".py",
   "mimetype": "text/x-python",
   "name": "python",
   "nbconvert_exporter": "python",
   "pygments_lexer": "ipython3",
   "version": "3.11.3"
  }
 },
 "nbformat": 4,
 "nbformat_minor": 4
}
