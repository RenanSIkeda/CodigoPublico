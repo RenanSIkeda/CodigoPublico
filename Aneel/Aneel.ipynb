{
 "cells": [
  {
   "cell_type": "markdown",
   "metadata": {},
   "source": [
    "<h2>Importando bibliotecas necessarias"
   ]
  },
  {
   "cell_type": "code",
   "execution_count": 51,
   "metadata": {},
   "outputs": [],
   "source": [
    "import requests\n",
    "import pandas as pd\n",
    "from datetime import datetime\n",
    "import pandas as pd\n",
    "from sklearn.preprocessing import OneHotEncoder\n",
    "import seaborn as sns\n",
    "import matplotlib.pyplot as plt"
   ]
  },
  {
   "cell_type": "markdown",
   "metadata": {},
   "source": [
    "<h2>Obtendo Dados via SQL da base da Aneel e utilizando as colunas necessarias"
   ]
  },
  {
   "cell_type": "code",
   "execution_count": 52,
   "metadata": {},
   "outputs": [
    {
     "name": "stdout",
     "output_type": "stream",
     "text": [
      "Fazendo a requisição dos dados...\n",
      "Criando DataFrame...\n"
     ]
    },
    {
     "data": {
      "application/vnd.microsoft.datawrangler.viewer.v0+json": {
       "columns": [
        {
         "name": "index",
         "rawType": "int64",
         "type": "integer"
        },
        {
         "name": "SigAgente",
         "rawType": "object",
         "type": "string"
        },
        {
         "name": "DatInicioVigencia",
         "rawType": "object",
         "type": "string"
        },
        {
         "name": "DatFimVigencia",
         "rawType": "object",
         "type": "string"
        },
        {
         "name": "DscSubGrupo",
         "rawType": "object",
         "type": "string"
        },
        {
         "name": "DscModalidadeTarifaria",
         "rawType": "object",
         "type": "string"
        },
        {
         "name": "VlrTUSD",
         "rawType": "object",
         "type": "string"
        },
        {
         "name": "VlrTE",
         "rawType": "object",
         "type": "string"
        },
        {
         "name": "DscUnidadeTerciaria",
         "rawType": "object",
         "type": "string"
        },
        {
         "name": "NomPostoTarifario",
         "rawType": "object",
         "type": "string"
        },
        {
         "name": "DscDetalhe",
         "rawType": "object",
         "type": "string"
        }
       ],
       "conversionMethod": "pd.DataFrame",
       "ref": "5684e7ab-731a-41b6-b076-ef26a396499a",
       "rows": [
        [
         "0",
         "EMT",
         "2020-07-01",
         "2021-04-07",
         "A2",
         "Azul",
         "18,57",
         ",00",
         "kW",
         "Ponta",
         "APE"
        ],
        [
         "1",
         "EMR",
         "2020-06-22",
         "2020-06-30",
         "A2",
         "Azul",
         "22,44",
         ",00",
         "kW",
         "Ponta",
         "APE"
        ],
        [
         "2",
         "EMS",
         "2020-07-01",
         "2021-04-07",
         "A4",
         "Azul",
         "60,61",
         ",00",
         "kW",
         "Ponta",
         "APE"
        ],
        [
         "3",
         "EMT",
         "2020-04-08",
         "2020-06-30",
         "A4",
         "Azul",
         "44,65",
         ",00",
         "kW",
         "Ponta",
         "APE"
        ],
        [
         "4",
         "CERCI",
         "2020-04-29",
         "2020-06-30",
         "A4",
         "Azul",
         "28,68",
         ",00",
         "MWh",
         "Ponta",
         "APE"
        ]
       ],
       "shape": {
        "columns": 10,
        "rows": 5
       }
      },
      "text/html": [
       "<div>\n",
       "<style scoped>\n",
       "    .dataframe tbody tr th:only-of-type {\n",
       "        vertical-align: middle;\n",
       "    }\n",
       "\n",
       "    .dataframe tbody tr th {\n",
       "        vertical-align: top;\n",
       "    }\n",
       "\n",
       "    .dataframe thead th {\n",
       "        text-align: right;\n",
       "    }\n",
       "</style>\n",
       "<table border=\"1\" class=\"dataframe\">\n",
       "  <thead>\n",
       "    <tr style=\"text-align: right;\">\n",
       "      <th></th>\n",
       "      <th>SigAgente</th>\n",
       "      <th>DatInicioVigencia</th>\n",
       "      <th>DatFimVigencia</th>\n",
       "      <th>DscSubGrupo</th>\n",
       "      <th>DscModalidadeTarifaria</th>\n",
       "      <th>VlrTUSD</th>\n",
       "      <th>VlrTE</th>\n",
       "      <th>DscUnidadeTerciaria</th>\n",
       "      <th>NomPostoTarifario</th>\n",
       "      <th>DscDetalhe</th>\n",
       "    </tr>\n",
       "  </thead>\n",
       "  <tbody>\n",
       "    <tr>\n",
       "      <th>0</th>\n",
       "      <td>EMT</td>\n",
       "      <td>2020-07-01</td>\n",
       "      <td>2021-04-07</td>\n",
       "      <td>A2</td>\n",
       "      <td>Azul</td>\n",
       "      <td>18,57</td>\n",
       "      <td>,00</td>\n",
       "      <td>kW</td>\n",
       "      <td>Ponta</td>\n",
       "      <td>APE</td>\n",
       "    </tr>\n",
       "    <tr>\n",
       "      <th>1</th>\n",
       "      <td>EMR</td>\n",
       "      <td>2020-06-22</td>\n",
       "      <td>2020-06-30</td>\n",
       "      <td>A2</td>\n",
       "      <td>Azul</td>\n",
       "      <td>22,44</td>\n",
       "      <td>,00</td>\n",
       "      <td>kW</td>\n",
       "      <td>Ponta</td>\n",
       "      <td>APE</td>\n",
       "    </tr>\n",
       "    <tr>\n",
       "      <th>2</th>\n",
       "      <td>EMS</td>\n",
       "      <td>2020-07-01</td>\n",
       "      <td>2021-04-07</td>\n",
       "      <td>A4</td>\n",
       "      <td>Azul</td>\n",
       "      <td>60,61</td>\n",
       "      <td>,00</td>\n",
       "      <td>kW</td>\n",
       "      <td>Ponta</td>\n",
       "      <td>APE</td>\n",
       "    </tr>\n",
       "    <tr>\n",
       "      <th>3</th>\n",
       "      <td>EMT</td>\n",
       "      <td>2020-04-08</td>\n",
       "      <td>2020-06-30</td>\n",
       "      <td>A4</td>\n",
       "      <td>Azul</td>\n",
       "      <td>44,65</td>\n",
       "      <td>,00</td>\n",
       "      <td>kW</td>\n",
       "      <td>Ponta</td>\n",
       "      <td>APE</td>\n",
       "    </tr>\n",
       "    <tr>\n",
       "      <th>4</th>\n",
       "      <td>CERCI</td>\n",
       "      <td>2020-04-29</td>\n",
       "      <td>2020-06-30</td>\n",
       "      <td>A4</td>\n",
       "      <td>Azul</td>\n",
       "      <td>28,68</td>\n",
       "      <td>,00</td>\n",
       "      <td>MWh</td>\n",
       "      <td>Ponta</td>\n",
       "      <td>APE</td>\n",
       "    </tr>\n",
       "  </tbody>\n",
       "</table>\n",
       "</div>"
      ],
      "text/plain": [
       "  SigAgente DatInicioVigencia DatFimVigencia DscSubGrupo  \\\n",
       "0       EMT        2020-07-01     2021-04-07          A2   \n",
       "1       EMR        2020-06-22     2020-06-30          A2   \n",
       "2       EMS        2020-07-01     2021-04-07          A4   \n",
       "3       EMT        2020-04-08     2020-06-30          A4   \n",
       "4     CERCI        2020-04-29     2020-06-30          A4   \n",
       "\n",
       "  DscModalidadeTarifaria VlrTUSD VlrTE DscUnidadeTerciaria NomPostoTarifario  \\\n",
       "0                   Azul   18,57   ,00                  kW             Ponta   \n",
       "1                   Azul   22,44   ,00                  kW             Ponta   \n",
       "2                   Azul   60,61   ,00                  kW             Ponta   \n",
       "3                   Azul   44,65   ,00                  kW             Ponta   \n",
       "4                   Azul   28,68   ,00                 MWh             Ponta   \n",
       "\n",
       "  DscDetalhe  \n",
       "0        APE  \n",
       "1        APE  \n",
       "2        APE  \n",
       "3        APE  \n",
       "4        APE  "
      ]
     },
     "execution_count": 52,
     "metadata": {},
     "output_type": "execute_result"
    }
   ],
   "source": [
    "# URL base da API para consultas SQL\n",
    "url = \"https://dadosabertos.aneel.gov.br/api/3/action/datastore_search_sql\"\n",
    "\n",
    "# Consulta SQL\n",
    "query = \"\"\"\n",
    "    SELECT \"SigAgente\", \"DatInicioVigencia\", \"DatFimVigencia\", \"DscSubGrupo\", \"DscModalidadeTarifaria\", \"VlrTUSD\", \"VlrTE\", \"DscUnidadeTerciaria\", \"NomPostoTarifario\", \"DscDetalhe\"\n",
    "    FROM \"fcf2906c-7c32-4b9b-a637-054e7a5234f4\"\n",
    "    WHERE \"DatInicioVigencia\" >= '2020-01-01'\n",
    "    AND ((\"DscSubGrupo\" = 'B3' AND (\"DscModalidadeTarifaria\" = 'Branca' OR \"DscModalidadeTarifaria\" = 'Convencional'))\n",
    "    OR ((\"DscSubGrupo\" = 'A4' OR \"DscSubGrupo\" = 'A2')\n",
    "    AND (\"DscModalidadeTarifaria\" = 'Azul' OR \"DscModalidadeTarifaria\" = 'Verde')))\n",
    "    AND (\"DscBaseTarifaria\" = 'Tarifa de Aplicação')\n",
    "\"\"\"\n",
    "\n",
    "# Monta a URL com a query\n",
    "params = {\"sql\": query}\n",
    "\n",
    "print(\"Fazendo a requisição dos dados...\")\n",
    "# Fazendo a requisição\n",
    "response = requests.get(url, params=params)\n",
    "\n",
    "# Verifica se a requisição foi bem-sucedida\n",
    "data = response.json()  # Converte a resposta JSON em um dicionário Python\n",
    "records = data.get(\"result\", {}).get(\"records\", [])  # Obtém os registros da resposta\n",
    "\n",
    "print(\"Criando DataFrame...\")\n",
    "# Cria um DataFrame a partir dos dados\n",
    "df = pd.DataFrame(records)\n",
    "df.head(5)"
   ]
  },
  {
   "cell_type": "markdown",
   "metadata": {},
   "source": [
    "Analise dos dados"
   ]
  },
  {
   "cell_type": "code",
   "execution_count": 53,
   "metadata": {},
   "outputs": [
    {
     "name": "stdout",
     "output_type": "stream",
     "text": [
      "<class 'pandas.core.frame.DataFrame'>\n",
      "RangeIndex: 14602 entries, 0 to 14601\n",
      "Data columns (total 10 columns):\n",
      " #   Column                  Non-Null Count  Dtype \n",
      "---  ------                  --------------  ----- \n",
      " 0   SigAgente               14602 non-null  object\n",
      " 1   DatInicioVigencia       14602 non-null  object\n",
      " 2   DatFimVigencia          14602 non-null  object\n",
      " 3   DscSubGrupo             14602 non-null  object\n",
      " 4   DscModalidadeTarifaria  14602 non-null  object\n",
      " 5   VlrTUSD                 14602 non-null  object\n",
      " 6   VlrTE                   14602 non-null  object\n",
      " 7   DscUnidadeTerciaria     14602 non-null  object\n",
      " 8   NomPostoTarifario       14602 non-null  object\n",
      " 9   DscDetalhe              14602 non-null  object\n",
      "dtypes: object(10)\n",
      "memory usage: 1.1+ MB\n"
     ]
    }
   ],
   "source": [
    "df.info() #todos os dados vieram como objetos"
   ]
  },
  {
   "cell_type": "markdown",
   "metadata": {},
   "source": [
    "Converter colunas necessarias"
   ]
  },
  {
   "cell_type": "code",
   "execution_count": 54,
   "metadata": {},
   "outputs": [
    {
     "name": "stdout",
     "output_type": "stream",
     "text": [
      "<class 'pandas.core.frame.DataFrame'>\n",
      "RangeIndex: 14602 entries, 0 to 14601\n",
      "Data columns (total 10 columns):\n",
      " #   Column                  Non-Null Count  Dtype         \n",
      "---  ------                  --------------  -----         \n",
      " 0   SigAgente               14602 non-null  object        \n",
      " 1   DatInicioVigencia       14602 non-null  datetime64[ns]\n",
      " 2   DatFimVigencia          14602 non-null  datetime64[ns]\n",
      " 3   DscSubGrupo             14602 non-null  object        \n",
      " 4   DscModalidadeTarifaria  14602 non-null  object        \n",
      " 5   VlrTUSD                 14602 non-null  float64       \n",
      " 6   VlrTE                   14602 non-null  float64       \n",
      " 7   DscUnidadeTerciaria     14602 non-null  object        \n",
      " 8   NomPostoTarifario       14602 non-null  object        \n",
      " 9   DscDetalhe              14602 non-null  object        \n",
      "dtypes: datetime64[ns](2), float64(2), object(6)\n",
      "memory usage: 1.1+ MB\n"
     ]
    },
    {
     "data": {
      "application/vnd.microsoft.datawrangler.viewer.v0+json": {
       "columns": [
        {
         "name": "index",
         "rawType": "int64",
         "type": "integer"
        },
        {
         "name": "SigAgente",
         "rawType": "object",
         "type": "string"
        },
        {
         "name": "DatInicioVigencia",
         "rawType": "datetime64[ns]",
         "type": "datetime"
        },
        {
         "name": "DatFimVigencia",
         "rawType": "datetime64[ns]",
         "type": "datetime"
        },
        {
         "name": "DscSubGrupo",
         "rawType": "object",
         "type": "string"
        },
        {
         "name": "DscModalidadeTarifaria",
         "rawType": "object",
         "type": "string"
        },
        {
         "name": "VlrTUSD",
         "rawType": "float64",
         "type": "float"
        },
        {
         "name": "VlrTE",
         "rawType": "float64",
         "type": "float"
        },
        {
         "name": "DscUnidadeTerciaria",
         "rawType": "object",
         "type": "string"
        },
        {
         "name": "NomPostoTarifario",
         "rawType": "object",
         "type": "string"
        },
        {
         "name": "DscDetalhe",
         "rawType": "object",
         "type": "string"
        }
       ],
       "conversionMethod": "pd.DataFrame",
       "ref": "01ec2fbf-f8aa-411f-80df-875634889e1e",
       "rows": [
        [
         "0",
         "EMT",
         "2020-07-01 00:00:00",
         "2021-04-07 00:00:00",
         "A2",
         "Azul",
         "18.57",
         "0.0",
         "kW",
         "Ponta",
         "APE"
        ],
        [
         "1",
         "EMR",
         "2020-06-22 00:00:00",
         "2020-06-30 00:00:00",
         "A2",
         "Azul",
         "22.44",
         "0.0",
         "kW",
         "Ponta",
         "APE"
        ],
        [
         "2",
         "EMS",
         "2020-07-01 00:00:00",
         "2021-04-07 00:00:00",
         "A4",
         "Azul",
         "60.61",
         "0.0",
         "kW",
         "Ponta",
         "APE"
        ]
       ],
       "shape": {
        "columns": 10,
        "rows": 3
       }
      },
      "text/html": [
       "<div>\n",
       "<style scoped>\n",
       "    .dataframe tbody tr th:only-of-type {\n",
       "        vertical-align: middle;\n",
       "    }\n",
       "\n",
       "    .dataframe tbody tr th {\n",
       "        vertical-align: top;\n",
       "    }\n",
       "\n",
       "    .dataframe thead th {\n",
       "        text-align: right;\n",
       "    }\n",
       "</style>\n",
       "<table border=\"1\" class=\"dataframe\">\n",
       "  <thead>\n",
       "    <tr style=\"text-align: right;\">\n",
       "      <th></th>\n",
       "      <th>SigAgente</th>\n",
       "      <th>DatInicioVigencia</th>\n",
       "      <th>DatFimVigencia</th>\n",
       "      <th>DscSubGrupo</th>\n",
       "      <th>DscModalidadeTarifaria</th>\n",
       "      <th>VlrTUSD</th>\n",
       "      <th>VlrTE</th>\n",
       "      <th>DscUnidadeTerciaria</th>\n",
       "      <th>NomPostoTarifario</th>\n",
       "      <th>DscDetalhe</th>\n",
       "    </tr>\n",
       "  </thead>\n",
       "  <tbody>\n",
       "    <tr>\n",
       "      <th>0</th>\n",
       "      <td>EMT</td>\n",
       "      <td>2020-07-01</td>\n",
       "      <td>2021-04-07</td>\n",
       "      <td>A2</td>\n",
       "      <td>Azul</td>\n",
       "      <td>18.57</td>\n",
       "      <td>0.0</td>\n",
       "      <td>kW</td>\n",
       "      <td>Ponta</td>\n",
       "      <td>APE</td>\n",
       "    </tr>\n",
       "    <tr>\n",
       "      <th>1</th>\n",
       "      <td>EMR</td>\n",
       "      <td>2020-06-22</td>\n",
       "      <td>2020-06-30</td>\n",
       "      <td>A2</td>\n",
       "      <td>Azul</td>\n",
       "      <td>22.44</td>\n",
       "      <td>0.0</td>\n",
       "      <td>kW</td>\n",
       "      <td>Ponta</td>\n",
       "      <td>APE</td>\n",
       "    </tr>\n",
       "    <tr>\n",
       "      <th>2</th>\n",
       "      <td>EMS</td>\n",
       "      <td>2020-07-01</td>\n",
       "      <td>2021-04-07</td>\n",
       "      <td>A4</td>\n",
       "      <td>Azul</td>\n",
       "      <td>60.61</td>\n",
       "      <td>0.0</td>\n",
       "      <td>kW</td>\n",
       "      <td>Ponta</td>\n",
       "      <td>APE</td>\n",
       "    </tr>\n",
       "  </tbody>\n",
       "</table>\n",
       "</div>"
      ],
      "text/plain": [
       "  SigAgente DatInicioVigencia DatFimVigencia DscSubGrupo  \\\n",
       "0       EMT        2020-07-01     2021-04-07          A2   \n",
       "1       EMR        2020-06-22     2020-06-30          A2   \n",
       "2       EMS        2020-07-01     2021-04-07          A4   \n",
       "\n",
       "  DscModalidadeTarifaria  VlrTUSD  VlrTE DscUnidadeTerciaria  \\\n",
       "0                   Azul    18.57    0.0                  kW   \n",
       "1                   Azul    22.44    0.0                  kW   \n",
       "2                   Azul    60.61    0.0                  kW   \n",
       "\n",
       "  NomPostoTarifario DscDetalhe  \n",
       "0             Ponta        APE  \n",
       "1             Ponta        APE  \n",
       "2             Ponta        APE  "
      ]
     },
     "execution_count": 54,
     "metadata": {},
     "output_type": "execute_result"
    }
   ],
   "source": [
    "# Limpeza e conversão segura para float\n",
    "df[\"VlrTUSD\"] = pd.to_numeric(df[\"VlrTUSD\"].astype(str).str.replace(\",\", \".\"), errors='coerce')\n",
    "df[\"VlrTE\"] = pd.to_numeric(df[\"VlrTE\"].astype(str).str.replace(\",\", \".\"), errors='coerce')\n",
    "\n",
    "#Converter as colunas de datas que vieram em formato Object \n",
    "df[\"DatFimVigencia\"] = pd.to_datetime(df[\"DatFimVigencia\"], errors=\"coerce\")\n",
    "df[\"DatInicioVigencia\"] = pd.to_datetime(df[\"DatInicioVigencia\"], errors=\"coerce\")\n",
    "\n",
    "#Verificar as colunas se estao corretas agora\n",
    "df.info()\n",
    "df.head(3)"
   ]
  },
  {
   "cell_type": "markdown",
   "metadata": {},
   "source": [
    "Fazer os calculos necessarios"
   ]
  },
  {
   "cell_type": "code",
   "execution_count": 55,
   "metadata": {},
   "outputs": [
    {
     "name": "stdout",
     "output_type": "stream",
     "text": [
      "ALERTA: Existem tarifas Não Vigentes!\n"
     ]
    },
    {
     "data": {
      "application/vnd.microsoft.datawrangler.viewer.v0+json": {
       "columns": [
        {
         "name": "index",
         "rawType": "int64",
         "type": "integer"
        },
        {
         "name": "SigAgente",
         "rawType": "object",
         "type": "string"
        },
        {
         "name": "DatInicioVigencia",
         "rawType": "datetime64[ns]",
         "type": "datetime"
        },
        {
         "name": "DatFimVigencia",
         "rawType": "datetime64[ns]",
         "type": "datetime"
        },
        {
         "name": "DscSubGrupo",
         "rawType": "object",
         "type": "string"
        },
        {
         "name": "DscModalidadeTarifaria",
         "rawType": "object",
         "type": "string"
        },
        {
         "name": "VlrTUSD",
         "rawType": "float64",
         "type": "float"
        },
        {
         "name": "VlrTE",
         "rawType": "float64",
         "type": "float"
        },
        {
         "name": "DscUnidadeTerciaria",
         "rawType": "object",
         "type": "string"
        },
        {
         "name": "NomPostoTarifario",
         "rawType": "object",
         "type": "string"
        },
        {
         "name": "DscDetalhe",
         "rawType": "object",
         "type": "string"
        },
        {
         "name": "Tarifa Vigente",
         "rawType": "float64",
         "type": "float"
        },
        {
         "name": "TarifaPisCofinsICMS",
         "rawType": "float64",
         "type": "float"
        },
        {
         "name": "Alerta",
         "rawType": "object",
         "type": "string"
        }
       ],
       "conversionMethod": "pd.DataFrame",
       "ref": "bfe726be-5c09-4e51-b6e8-48a4811db6a7",
       "rows": [
        [
         "0",
         "EMT",
         "2020-07-01 00:00:00",
         "2021-04-07 00:00:00",
         "A2",
         "Azul",
         "18.57",
         "0.0",
         "kW",
         "Ponta",
         "APE",
         "18.57",
         "19.54736842105263",
         "Não Vigente"
        ],
        [
         "1",
         "EMR",
         "2020-06-22 00:00:00",
         "2020-06-30 00:00:00",
         "A2",
         "Azul",
         "22.44",
         "0.0",
         "kW",
         "Ponta",
         "APE",
         "22.44",
         "23.62105263157895",
         "Não Vigente"
        ],
        [
         "2",
         "EMS",
         "2020-07-01 00:00:00",
         "2021-04-07 00:00:00",
         "A4",
         "Azul",
         "60.61",
         "0.0",
         "kW",
         "Ponta",
         "APE",
         "60.61",
         "63.800000000000004",
         "Não Vigente"
        ],
        [
         "3",
         "EMT",
         "2020-04-08 00:00:00",
         "2020-06-30 00:00:00",
         "A4",
         "Azul",
         "44.65",
         "0.0",
         "kW",
         "Ponta",
         "APE",
         "44.65",
         "47.0",
         "Não Vigente"
        ],
        [
         "4",
         "CERCI",
         "2020-04-29 00:00:00",
         "2020-06-30 00:00:00",
         "A4",
         "Azul",
         "28.68",
         "0.0",
         "MWh",
         "Ponta",
         "APE",
         "28.68",
         "30.189473684210526",
         "Não Vigente"
        ]
       ],
       "shape": {
        "columns": 13,
        "rows": 5
       }
      },
      "text/html": [
       "<div>\n",
       "<style scoped>\n",
       "    .dataframe tbody tr th:only-of-type {\n",
       "        vertical-align: middle;\n",
       "    }\n",
       "\n",
       "    .dataframe tbody tr th {\n",
       "        vertical-align: top;\n",
       "    }\n",
       "\n",
       "    .dataframe thead th {\n",
       "        text-align: right;\n",
       "    }\n",
       "</style>\n",
       "<table border=\"1\" class=\"dataframe\">\n",
       "  <thead>\n",
       "    <tr style=\"text-align: right;\">\n",
       "      <th></th>\n",
       "      <th>SigAgente</th>\n",
       "      <th>DatInicioVigencia</th>\n",
       "      <th>DatFimVigencia</th>\n",
       "      <th>DscSubGrupo</th>\n",
       "      <th>DscModalidadeTarifaria</th>\n",
       "      <th>VlrTUSD</th>\n",
       "      <th>VlrTE</th>\n",
       "      <th>DscUnidadeTerciaria</th>\n",
       "      <th>NomPostoTarifario</th>\n",
       "      <th>DscDetalhe</th>\n",
       "      <th>Tarifa Vigente</th>\n",
       "      <th>TarifaPisCofinsICMS</th>\n",
       "      <th>Alerta</th>\n",
       "    </tr>\n",
       "  </thead>\n",
       "  <tbody>\n",
       "    <tr>\n",
       "      <th>0</th>\n",
       "      <td>EMT</td>\n",
       "      <td>2020-07-01</td>\n",
       "      <td>2021-04-07</td>\n",
       "      <td>A2</td>\n",
       "      <td>Azul</td>\n",
       "      <td>18.57</td>\n",
       "      <td>0.0</td>\n",
       "      <td>kW</td>\n",
       "      <td>Ponta</td>\n",
       "      <td>APE</td>\n",
       "      <td>18.57</td>\n",
       "      <td>19.547368</td>\n",
       "      <td>Não Vigente</td>\n",
       "    </tr>\n",
       "    <tr>\n",
       "      <th>1</th>\n",
       "      <td>EMR</td>\n",
       "      <td>2020-06-22</td>\n",
       "      <td>2020-06-30</td>\n",
       "      <td>A2</td>\n",
       "      <td>Azul</td>\n",
       "      <td>22.44</td>\n",
       "      <td>0.0</td>\n",
       "      <td>kW</td>\n",
       "      <td>Ponta</td>\n",
       "      <td>APE</td>\n",
       "      <td>22.44</td>\n",
       "      <td>23.621053</td>\n",
       "      <td>Não Vigente</td>\n",
       "    </tr>\n",
       "    <tr>\n",
       "      <th>2</th>\n",
       "      <td>EMS</td>\n",
       "      <td>2020-07-01</td>\n",
       "      <td>2021-04-07</td>\n",
       "      <td>A4</td>\n",
       "      <td>Azul</td>\n",
       "      <td>60.61</td>\n",
       "      <td>0.0</td>\n",
       "      <td>kW</td>\n",
       "      <td>Ponta</td>\n",
       "      <td>APE</td>\n",
       "      <td>60.61</td>\n",
       "      <td>63.800000</td>\n",
       "      <td>Não Vigente</td>\n",
       "    </tr>\n",
       "    <tr>\n",
       "      <th>3</th>\n",
       "      <td>EMT</td>\n",
       "      <td>2020-04-08</td>\n",
       "      <td>2020-06-30</td>\n",
       "      <td>A4</td>\n",
       "      <td>Azul</td>\n",
       "      <td>44.65</td>\n",
       "      <td>0.0</td>\n",
       "      <td>kW</td>\n",
       "      <td>Ponta</td>\n",
       "      <td>APE</td>\n",
       "      <td>44.65</td>\n",
       "      <td>47.000000</td>\n",
       "      <td>Não Vigente</td>\n",
       "    </tr>\n",
       "    <tr>\n",
       "      <th>4</th>\n",
       "      <td>CERCI</td>\n",
       "      <td>2020-04-29</td>\n",
       "      <td>2020-06-30</td>\n",
       "      <td>A4</td>\n",
       "      <td>Azul</td>\n",
       "      <td>28.68</td>\n",
       "      <td>0.0</td>\n",
       "      <td>MWh</td>\n",
       "      <td>Ponta</td>\n",
       "      <td>APE</td>\n",
       "      <td>28.68</td>\n",
       "      <td>30.189474</td>\n",
       "      <td>Não Vigente</td>\n",
       "    </tr>\n",
       "  </tbody>\n",
       "</table>\n",
       "</div>"
      ],
      "text/plain": [
       "  SigAgente DatInicioVigencia DatFimVigencia DscSubGrupo  \\\n",
       "0       EMT        2020-07-01     2021-04-07          A2   \n",
       "1       EMR        2020-06-22     2020-06-30          A2   \n",
       "2       EMS        2020-07-01     2021-04-07          A4   \n",
       "3       EMT        2020-04-08     2020-06-30          A4   \n",
       "4     CERCI        2020-04-29     2020-06-30          A4   \n",
       "\n",
       "  DscModalidadeTarifaria  VlrTUSD  VlrTE DscUnidadeTerciaria  \\\n",
       "0                   Azul    18.57    0.0                  kW   \n",
       "1                   Azul    22.44    0.0                  kW   \n",
       "2                   Azul    60.61    0.0                  kW   \n",
       "3                   Azul    44.65    0.0                  kW   \n",
       "4                   Azul    28.68    0.0                 MWh   \n",
       "\n",
       "  NomPostoTarifario DscDetalhe  Tarifa Vigente  TarifaPisCofinsICMS  \\\n",
       "0             Ponta        APE           18.57            19.547368   \n",
       "1             Ponta        APE           22.44            23.621053   \n",
       "2             Ponta        APE           60.61            63.800000   \n",
       "3             Ponta        APE           44.65            47.000000   \n",
       "4             Ponta        APE           28.68            30.189474   \n",
       "\n",
       "        Alerta  \n",
       "0  Não Vigente  \n",
       "1  Não Vigente  \n",
       "2  Não Vigente  \n",
       "3  Não Vigente  \n",
       "4  Não Vigente  "
      ]
     },
     "execution_count": 55,
     "metadata": {},
     "output_type": "execute_result"
    }
   ],
   "source": [
    "#Calculo da coluna da Tarifa \n",
    "df[\"Tarifa Vigente\"] = df[\"VlrTUSD\"] + df[\"VlrTE\"]\n",
    "#Calulo da Tarifa considerando Pis Cofins e ICMS teorico de 0.95\n",
    "df[\"TarifaPisCofinsICMS\"] = (df[\"VlrTUSD\"] + df[\"VlrTE\"]) / 0.95\n",
    "\n",
    "#Verificar se a tarifa aida continua Vigente\n",
    "#Utilizando a Data de hoje para comparar com a data de fim de vigencia\n",
    "data_atual = datetime.today()\n",
    "\n",
    "df[\"Alerta\"] = df[\"DatFimVigencia\"].apply(lambda x: \"Não Vigente\" if x < data_atual else \"Vigente\")\n",
    "\n",
    "tarifas_vencidas = df[df[\"Alerta\"] == \"Não Vigente\"]\n",
    "\n",
    "if not tarifas_vencidas.empty:\n",
    "    print(\"ALERTA: Existem tarifas Não Vigentes!\")\n",
    "\n",
    "df.head(5)\n"
   ]
  },
  {
   "cell_type": "markdown",
   "metadata": {},
   "source": [
    "Correlação"
   ]
  },
  {
   "cell_type": "code",
   "execution_count": 56,
   "metadata": {},
   "outputs": [],
   "source": [
    "# Seleciona colunas relevantes desconsiderando o nome da concessionaria\n",
    "df_corr = df[[\"DscSubGrupo\", \"DscModalidadeTarifaria\", \"NomPostoTarifario\", \"Tarifa Vigente\"]].copy()\n",
    "# Selecionando as colunas categóricas\n",
    "cat_cols = [\"DscSubGrupo\", \"DscModalidadeTarifaria\", \"NomPostoTarifario\"]"
   ]
  },
  {
   "cell_type": "code",
   "execution_count": 57,
   "metadata": {},
   "outputs": [],
   "source": [
    "#Aplicando o OneHotEncoder nas colunas categoricas\n",
    "encoder = OneHotEncoder(sparse_output=False, drop='first')\n",
    "encoded = encoder.fit_transform(df_corr[cat_cols])\n",
    "encoded_df = pd.DataFrame(encoded, columns=encoder.get_feature_names_out(cat_cols))\n",
    "\n",
    "#Juntar as bases\n",
    "final_df = pd.concat([encoded_df, df_corr[[\"Tarifa Vigente\"]].reset_index(drop=True)], axis=1)"
   ]
  },
  {
   "cell_type": "code",
   "execution_count": 58,
   "metadata": {},
   "outputs": [],
   "source": [
    "#Aplicando a Correlação com a Tarifa Vigente\n",
    "correlacao = final_df.corr(numeric_only=True)\n",
    "cor_tarifa = correlacao[[\"Tarifa Vigente\"]].drop(\"Tarifa Vigente\")"
   ]
  },
  {
   "cell_type": "code",
   "execution_count": null,
   "metadata": {},
   "outputs": [
    {
     "data": {
      "image/png": "[encoded data removed]",
      "text/plain": [
       "<Figure size 640x480 with 2 Axes>"
      ]
     },
     "metadata": {},
     "output_type": "display_data"
    }
   ],
   "source": [
    "#Plotar o grafico de correlação com a Tarifa Vigente\n",
    "sns.heatmap(cor_tarifa.sort_values(\"Tarifa Vigente\", ascending=False), annot=True, cmap=\"coolwarm\", fmt=\".2f\")\n",
    "plt.title(\"Correlação com Tarifa Vigente\")\n",
    "plt.tight_layout()\n",
    "plt.show()"
   ]
  }
 ],
 "metadata": {
  "kernelspec": {
   "display_name": "Python 3",
   "language": "python",
   "name": "python3"
  },
  "language_info": {
   "codemirror_mode": {
    "name": "ipython",
    "version": 3
   },
   "file_extension": ".py",
   "mimetype": "text/x-python",
   "name": "python",
   "nbconvert_exporter": "python",
   "pygments_lexer": "ipython3",
   "version": "3.11.3"
  }
 },
 "nbformat": 4,
 "nbformat_minor": 2
}
